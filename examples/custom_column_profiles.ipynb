{
 "cells": [
  {
   "cell_type": "code",
   "execution_count": 1,
   "source": [
    "import os.path\n",
    "import pandas as pd\n",
    "import numpy as np"
   ],
   "outputs": [],
   "metadata": {}
  },
  {
   "cell_type": "code",
   "execution_count": 2,
   "source": [
    "# using the new v2 session will expose a few experimental parts of whylogs\n",
    "from whylogs.v2 import get_or_create_session\n",
    "from whylogs.v2 import MetricPlugin\n",
    "from whylogs.v2.core.columnprofile_configuration import ColumnProfileConfiguration\n",
    "from whylogs.v2.core.statistics import SchemaTracker, HllSketch"
   ],
   "outputs": [],
   "metadata": {}
  },
  {
   "cell_type": "code",
   "execution_count": 3,
   "source": [
    "session = get_or_create_session()"
   ],
   "outputs": [
    {
     "output_type": "stream",
     "name": "stdout",
     "text": [
      "WARN: Missing config\n"
     ]
    }
   ],
   "metadata": {}
  },
  {
   "cell_type": "code",
   "execution_count": 4,
   "source": [
    "# This removes all the automatic column trackers and stastics from whylog's loggers\n",
    "# created from this session, you will have to configure trackers for specific columns\n",
    "# or add custom metric_plugins to get anything logged.\n",
    "session.with_no_column_trackers()\n",
    "\n",
    "# Here is a simple schema and cardinality trackers for a column named 'Text'\n",
    "text_column_name = \"Text\"\n",
    "column_profiles = {}\n",
    "column_profiles[text_column_name] = ColumnProfileConfiguration(trackers=[SchemaTracker(), HllSketch()])\n",
    "\n",
    "session.with_custom_column_profiles(column_profiles)\n"
   ],
   "outputs": [
    {
     "output_type": "execute_result",
     "data": {
      "text/plain": [
       "<bound method Session.with_custom_column_profiles of metadata:\n",
       "  input_path: ''\n",
       "  output_path: output\n",
       "  path_template: <string.Template object at 0x7f2daee92940>\n",
       "pipeline: default-pipeline\n",
       "project: default-project\n",
       "verbose: false\n",
       "with_rotation_time: null\n",
       "writers:\n",
       "- filename_template: <string.Template object at 0x7f2daee92850>\n",
       "  formats:\n",
       "  - OutputFormat.json\n",
       "  - OutputFormat.flat\n",
       "  - OutputFormat.protobuf\n",
       "  output_path: output\n",
       "  path_template: <string.Template object at 0x7f2daee92910>\n",
       ">"
      ]
     },
     "metadata": {},
     "execution_count": 4
    }
   ],
   "metadata": {}
  },
  {
   "cell_type": "code",
   "execution_count": 5,
   "source": [
    "print(\"Current working directory:\", os.getcwd())"
   ],
   "outputs": [
    {
     "output_type": "stream",
     "name": "stdout",
     "text": [
      "Current working directory: /home/jamie/projects/whylogs/examples\n"
     ]
    }
   ],
   "metadata": {}
  },
  {
   "cell_type": "code",
   "execution_count": 6,
   "source": [
    "data_file = \"data/custom_metric_sample.txt\"\n"
   ],
   "outputs": [],
   "metadata": {
    "scrolled": true
   }
  },
  {
   "cell_type": "code",
   "execution_count": 7,
   "source": [
    "data = pd.read_csv(os.path.join(data_file), delimiter = '\\n')\n",
    "data.head()"
   ],
   "outputs": [
    {
     "output_type": "execute_result",
     "data": {
      "text/html": [
       "<div>\n",
       "<style scoped>\n",
       "    .dataframe tbody tr th:only-of-type {\n",
       "        vertical-align: middle;\n",
       "    }\n",
       "\n",
       "    .dataframe tbody tr th {\n",
       "        vertical-align: top;\n",
       "    }\n",
       "\n",
       "    .dataframe thead th {\n",
       "        text-align: right;\n",
       "    }\n",
       "</style>\n",
       "<table border=\"1\" class=\"dataframe\">\n",
       "  <thead>\n",
       "    <tr style=\"text-align: right;\">\n",
       "      <th></th>\n",
       "      <th>Text</th>\n",
       "    </tr>\n",
       "  </thead>\n",
       "  <tbody>\n",
       "    <tr>\n",
       "      <th>0</th>\n",
       "      <td>Much Ado About Nothing</td>\n",
       "    </tr>\n",
       "    <tr>\n",
       "      <th>1</th>\n",
       "      <td>ACT I</td>\n",
       "    </tr>\n",
       "    <tr>\n",
       "      <th>2</th>\n",
       "      <td>SCENE I. Before LEONATO'S house.</td>\n",
       "    </tr>\n",
       "    <tr>\n",
       "      <th>3</th>\n",
       "      <td>Enter LEONATO, HERO, and BEATRICE, with a Mess...</td>\n",
       "    </tr>\n",
       "    <tr>\n",
       "      <th>4</th>\n",
       "      <td>LEONATO</td>\n",
       "    </tr>\n",
       "  </tbody>\n",
       "</table>\n",
       "</div>"
      ],
      "text/plain": [
       "                                                Text\n",
       "0                             Much Ado About Nothing\n",
       "1                                              ACT I\n",
       "2                   SCENE I. Before LEONATO'S house.\n",
       "3  Enter LEONATO, HERO, and BEATRICE, with a Mess...\n",
       "4                                            LEONATO"
      ]
     },
     "metadata": {},
     "execution_count": 7
    }
   ],
   "metadata": {
    "scrolled": true
   }
  },
  {
   "cell_type": "code",
   "execution_count": 8,
   "source": [
    "profile = None\n",
    "from whylogs.logs import display_logging\n",
    "display_logging('debug')\n"
   ],
   "outputs": [
    {
     "output_type": "stream",
     "name": "stdout",
     "text": [
      "2021-09-29 16:39:20,953 - whylogs.logs - DEBUG - whylogs.logs logging -> stdout at level DEBUG\n"
     ]
    }
   ],
   "metadata": {}
  },
  {
   "cell_type": "code",
   "execution_count": 9,
   "source": [
    "with session.logger(dataset_name='test.data') as ylog:\n",
    "    profile = ylog.profile\n",
    "    print(profile.has_custom_profile_config)\n",
    "    profile.configured_column_names\n",
    "    ylog.log_dataframe(data)\n"
   ],
   "outputs": [
    {
     "output_type": "stream",
     "name": "stdout",
     "text": [
      "True\n",
      "2021-09-29 16:39:21,029 - whylogs.v2.core.datasetprofile - INFO - We got trackers: [<whylogs.v2.core.statistics.schematracker.SchemaTracker object at 0x7f2daeea8070>, <whylogs.v2.core.statistics.hllsketch.HllSketch object at 0x7f2daeea81c0>] and type False\n",
      "2021-09-29 16:39:21,031 - whylogs.v2.core.columnprofile - INFO - Using custom set of trackers ['SchemaTracker', 'HllSketch'] on column Text\n"
     ]
    }
   ],
   "metadata": {}
  },
  {
   "cell_type": "code",
   "execution_count": 10,
   "source": [
    "profile"
   ],
   "outputs": [
    {
     "output_type": "execute_result",
     "data": {
      "text/plain": [
       "<whylogs.v2.core.datasetprofile.DatasetProfile at 0x7f2dae830bb0>"
      ]
     },
     "metadata": {},
     "execution_count": 10
    }
   ],
   "metadata": {}
  },
  {
   "cell_type": "code",
   "execution_count": 11,
   "source": [
    "print(profile.has_custom_profile_config)\n",
    "profile.configured_column_names"
   ],
   "outputs": [
    {
     "output_type": "stream",
     "name": "stdout",
     "text": [
      "True\n"
     ]
    },
    {
     "output_type": "execute_result",
     "data": {
      "text/plain": [
       "['Text']"
      ]
     },
     "metadata": {},
     "execution_count": 11
    }
   ],
   "metadata": {}
  },
  {
   "cell_type": "code",
   "execution_count": 12,
   "source": [
    "profile.configured_column_names"
   ],
   "outputs": [
    {
     "output_type": "execute_result",
     "data": {
      "text/plain": [
       "['Text']"
      ]
     },
     "metadata": {},
     "execution_count": 12
    }
   ],
   "metadata": {}
  },
  {
   "cell_type": "code",
   "execution_count": 13,
   "source": [
    "summary = profile.to_summary()\n",
    "summary"
   ],
   "outputs": [
    {
     "output_type": "execute_result",
     "data": {
      "text/plain": [
       "properties {\n",
       "  schema_major_version: 1\n",
       "  schema_minor_version: 3\n",
       "  session_id: \"9b4661f1-418e-4f24-b65b-573cfe798c7b\"\n",
       "  session_timestamp: 1632933560631\n",
       "  tags {\n",
       "    key: \"name\"\n",
       "    value: \"test.data\"\n",
       "  }\n",
       "}\n",
       "columns {\n",
       "  name: \"Text\"\n",
       "  trackers {\n",
       "    key: \"HllSketch\"\n",
       "    value {\n",
       "      name: \"HllSketch\"\n",
       "      type_index: 9\n",
       "      unique_count {\n",
       "        estimate: 2657.375089447257\n",
       "        upper: 2692.1586733030113\n",
       "        lower: 2623.437636452387\n",
       "      }\n",
       "    }\n",
       "  }\n",
       "  trackers {\n",
       "    key: \"SchemaTracker\"\n",
       "    value {\n",
       "      name: \"SchemaTracker\"\n",
       "      type_index: 4\n",
       "      schema {\n",
       "        inferred_type {\n",
       "          type: STRING\n",
       "          ratio: 1.0\n",
       "        }\n",
       "        type_counts {\n",
       "          key: \"STRING\"\n",
       "          value: 3683\n",
       "        }\n",
       "      }\n",
       "    }\n",
       "  }\n",
       "}"
      ]
     },
     "metadata": {},
     "execution_count": 13
    }
   ],
   "metadata": {}
  },
  {
   "cell_type": "code",
   "execution_count": 14,
   "source": [
    "# Ok here is a sample custom metric that \n",
    "from dataclasses import dataclass\n",
    "from json import loads\n",
    "\n",
    "@dataclass\n",
    "class TargetWordCountMetric(MetricPlugin):\n",
    "    target_string: str = 'Hero'\n",
    "    target_column_name: str = ''\n",
    "    name: str = 'TargetWordCounter(Hero)'\n",
    "    word_counts: int = 0\n",
    "\n",
    "    def track(self, data):\n",
    "        self.word_counts = self.word_counts + data.count(self.target_string)\n",
    "\n",
    "    def merge(self, other: 'TargetWordCountMetric'):\n",
    "        self.word_counts = self.word_counts + other.word_counts"
   ],
   "outputs": [],
   "metadata": {}
  },
  {
   "cell_type": "code",
   "execution_count": 16,
   "source": [
    "# Note that 'Hero' is the name of one of the characters in the play 'Much Ado about Nothing' so this counter should\n",
    "# return how many times we see this string\n",
    "hero_counter = TargetWordCountMetric(target_string='Hero', name='HeroCounter', target_column_name=text_column_name)\n",
    "\n",
    "profile2 = None\n",
    "plugins = None\n",
    "\n",
    "with session.logger(dataset_name='test2.data') as ylog:\n",
    "    ylog.add_metric_plugin(hero_counter)\n",
    "    profile2 = ylog.profile\n",
    "    plugins = ylog.plugins\n",
    "    ylog.log_dataframe(data)"
   ],
   "outputs": [],
   "metadata": {}
  },
  {
   "cell_type": "code",
   "execution_count": 17,
   "source": [
    "plugins"
   ],
   "outputs": [
    {
     "output_type": "execute_result",
     "data": {
      "text/plain": [
       "{'HeroCounter': TargetWordCountMetric(target_string='Hero', target_column_name='Text', name='HeroCounter', word_counts=63)}"
      ]
     },
     "metadata": {},
     "execution_count": 17
    }
   ],
   "metadata": {}
  },
  {
   "cell_type": "code",
   "execution_count": 18,
   "source": [
    "summary2 = profile2.to_summary()\n",
    "summary2"
   ],
   "outputs": [
    {
     "output_type": "execute_result",
     "data": {
      "text/plain": [
       "properties {\n",
       "  schema_major_version: 1\n",
       "  schema_minor_version: 3\n",
       "  session_id: \"9b4661f1-418e-4f24-b65b-573cfe798c7b\"\n",
       "  session_timestamp: 1632933560631\n",
       "  tags {\n",
       "    key: \"name\"\n",
       "    value: \"test2.data\"\n",
       "  }\n",
       "}\n",
       "columns {\n",
       "  name: \"Text\"\n",
       "  trackers {\n",
       "    key: \"HllSketch\"\n",
       "    value {\n",
       "      name: \"HllSketch\"\n",
       "      type_index: 9\n",
       "      unique_count {\n",
       "        estimate: 2657.375089447257\n",
       "        upper: 2692.1586733030113\n",
       "        lower: 2623.437636452387\n",
       "      }\n",
       "    }\n",
       "  }\n",
       "  trackers {\n",
       "    key: \"SchemaTracker\"\n",
       "    value {\n",
       "      name: \"SchemaTracker\"\n",
       "      type_index: 4\n",
       "      schema {\n",
       "        inferred_type {\n",
       "          type: STRING\n",
       "          ratio: 1.0\n",
       "        }\n",
       "        type_counts {\n",
       "          key: \"STRING\"\n",
       "          value: 7366\n",
       "        }\n",
       "      }\n",
       "    }\n",
       "  }\n",
       "}\n",
       "metric_plugins {\n",
       "  key: \"HeroCounter\"\n",
       "  value {\n",
       "    name: \"HeroCounter\"\n",
       "    plugin_types {\n",
       "      plugin_class_name: \"TargetWordCountMetric\"\n",
       "    }\n",
       "    params {\n",
       "      fields {\n",
       "        key: \"target_column_name\"\n",
       "        value {\n",
       "          string_value: \"Text\"\n",
       "        }\n",
       "      }\n",
       "      fields {\n",
       "        key: \"target_string\"\n",
       "        value {\n",
       "          string_value: \"Hero\"\n",
       "        }\n",
       "      }\n",
       "      fields {\n",
       "        key: \"word_counts\"\n",
       "        value {\n",
       "          number_value: 63.0\n",
       "        }\n",
       "      }\n",
       "    }\n",
       "  }\n",
       "}"
      ]
     },
     "metadata": {},
     "execution_count": 18
    }
   ],
   "metadata": {}
  }
 ],
 "metadata": {
  "orig_nbformat": 4,
  "language_info": {
   "name": "python",
   "version": "3.8.10",
   "mimetype": "text/x-python",
   "codemirror_mode": {
    "name": "ipython",
    "version": 3
   },
   "pygments_lexer": "ipython3",
   "nbconvert_exporter": "python",
   "file_extension": ".py"
  },
  "kernelspec": {
   "name": "python3",
   "display_name": "Python 3.8.10 64-bit"
  },
  "interpreter": {
   "hash": "31f2aee4e71d21fbe5cf8b01ff0e069b9275f58929596ceb00d14d90e3e16cd6"
  }
 },
 "nbformat": 4,
 "nbformat_minor": 2
}