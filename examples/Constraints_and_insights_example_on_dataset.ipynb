{
 "cells": [
  {
   "cell_type": "code",
   "execution_count": 1,
   "id": "b86a4da0",
   "metadata": {},
   "outputs": [
    {
     "name": "stdout",
     "output_type": "stream",
     "text": [
      "WARN: Missing config\n"
     ]
    }
   ],
   "source": [
    "from whylogs import get_or_create_session\n",
    "from whylogs.util.protobuf import message_to_json\n",
    "\n",
    "# create session\n",
    "session = get_or_create_session()"
   ]
  },
  {
   "cell_type": "code",
   "execution_count": 2,
   "id": "db94c094",
   "metadata": {},
   "outputs": [],
   "source": [
    "import numpy as np\n",
    "import pandas as pd\n",
    "import json\n",
    "import os"
   ]
  },
  {
   "cell_type": "code",
   "execution_count": 3,
   "id": "48b12df9",
   "metadata": {},
   "outputs": [],
   "source": [
    "from tabulate import tabulate\n",
    "\n",
    "def indent(txt, spaces=4):\n",
    "    return \"\\n\".join(\" \" * spaces + ln for ln in txt.splitlines())\n",
    "\n",
    "def format_report(r):\n",
    "    # report failures in tabular form\n",
    "    \n",
    "    r_2 = [entry for entry in r if len(entry)==2] # all the single column constraints\n",
    "    r_table_shape = [[entry for entry in r if len(entry)!=2 and entry[0].startswith(\"table\")]] # multi column and table shape constraints\n",
    "    r_multi_column = [[entry for entry in r if len(entry)!=2 and entry[0].startswith(\"multi column\")]]\n",
    "    \n",
    "    if len(r_2):\n",
    "        print(\"Constraint failures by feature - \")\n",
    "    for c,r in r_2:\n",
    "        print(f\"{c}:\")\n",
    "        if len(r[0][0]) > 80: \n",
    "            print(f\"\\ntest_name:\\t{r[0][0]}\\n\")\n",
    "            print(f\"total_run:\\t{r[0][1]}\\n\")\n",
    "            print(f\"failed:\\t\\t{r[0][2]}\\n\")\n",
    "        else:    \n",
    "            print(indent(tabulate(r, tablefmt=\"plain\", headers=['test_name', 'total_run', 'failed'])))\n",
    "    \n",
    "    if len(r_table_shape[0]):\n",
    "        print ()   \n",
    "        print(\"Table shape constraint failures -\")\n",
    "        for entry in r_table_shape:\n",
    "            print(indent(tabulate(entry, tablefmt=\"plain\", headers=['test_name', 'total_run', 'failed'])))\n",
    "        \n",
    "    if len(r_multi_column[0]):\n",
    "        print()    \n",
    "        print(\"Multi column constraint failures -\")\n",
    "        for entry in r_multi_column:\n",
    "            if len(entry[0][0]) > 80: \n",
    "                print(f\"\\ntest_name:\\t{entry[0][0]}\\n\")\n",
    "                print(f\"total_run:\\t{entry[0][1]}\\n\")\n",
    "                print(f\"failed:\\t\\t{entry[0][2]}\\n\")\n",
    "            else:\n",
    "                print(indent(tabulate(entry, tablefmt=\"plain\", headers=['test_name', 'total_run', 'failed'])))\n",
    "        "
   ]
  },
  {
   "cell_type": "code",
   "execution_count": 4,
   "id": "ea6e7bdb",
   "metadata": {},
   "outputs": [],
   "source": [
    "df = pd.read_csv(os.path.join('data', 'fake-person-data.csv'))"
   ]
  },
  {
   "cell_type": "markdown",
   "id": "71327dd0",
   "metadata": {},
   "source": [
    "First log the data (and provide value constraints, checking the **password** length in this example)"
   ]
  },
  {
   "cell_type": "code",
   "execution_count": 5,
   "id": "aa67cfad",
   "metadata": {},
   "outputs": [],
   "source": [
    "from whylogs.core.statistics.constraints import stringLengthBetweenConstraint, DatasetConstraints\n",
    "str_len_between = stringLengthBetweenConstraint(8, 20)\n",
    "dc = DatasetConstraints(None, value_constraints = {'password': [str_len_between]})\n",
    "\n",
    "profile = session.log_dataframe(df, \"person.data\", constraints = dc)\n"
   ]
  },
  {
   "cell_type": "markdown",
   "id": "c4ece7af",
   "metadata": {},
   "source": [
    "Display the evaluated value constraints"
   ]
  },
  {
   "cell_type": "code",
   "execution_count": 6,
   "id": "10df53a5",
   "metadata": {},
   "outputs": [
    {
     "name": "stdout",
     "output_type": "stream",
     "text": [
      "Constraint failures by feature - \n",
      "password:\n",
      "    test_name                                          total_run    failed\n",
      "    length of the string values is between 8 and 20          500         0\n"
     ]
    }
   ],
   "source": [
    "format_report(dc.report())"
   ]
  },
  {
   "cell_type": "markdown",
   "id": "c402ab54",
   "metadata": {},
   "source": [
    "Then create and apply the summary constraints"
   ]
  },
  {
   "cell_type": "markdown",
   "id": "d3ca91ed",
   "metadata": {},
   "source": [
    "Check if the email (eg. username) and password don't have any missing values"
   ]
  },
  {
   "cell_type": "code",
   "execution_count": 7,
   "id": "0fa1f8a1",
   "metadata": {},
   "outputs": [
    {
     "name": "stdout",
     "output_type": "stream",
     "text": [
      "Constraint failures by feature - \n",
      "email:\n",
      "    test_name                          total_run    failed\n",
      "    does not contain missing values            1         0\n",
      "password:\n",
      "    test_name                          total_run    failed\n",
      "    does not contain missing values            1         0\n"
     ]
    }
   ],
   "source": [
    "from whylogs.core.statistics.constraints import columnValuesNotNullConstraint\n",
    "nnc1 = columnValuesNotNullConstraint()\n",
    "nnc2 = columnValuesNotNullConstraint()\n",
    "summary_constraints = {\"email\": [nnc1], \"password\": [nnc2]}\n",
    "\n",
    "report = profile.apply_summary_constraints(summary_constraints)\n",
    "\n",
    "format_report(report)"
   ]
  },
  {
   "cell_type": "markdown",
   "id": "fa9f1a12",
   "metadata": {},
   "source": [
    "As we can see, no failures are present so the columns **'email'** and **'password'** do not have any missing values."
   ]
  },
  {
   "cell_type": "markdown",
   "id": "cea2fa39",
   "metadata": {},
   "source": [
    "Now we can try to generate constraints that **whylogs** provides for our logged data."
   ]
  },
  {
   "cell_type": "code",
   "execution_count": 8,
   "id": "10899ae4",
   "metadata": {},
   "outputs": [],
   "source": [
    "generated_constraints = profile.generate_constraints()"
   ]
  },
  {
   "cell_type": "markdown",
   "id": "b8347ab2",
   "metadata": {},
   "source": [
    "Displaying info for the generated constraints"
   ]
  },
  {
   "cell_type": "code",
   "execution_count": 9,
   "id": "686229a9",
   "metadata": {},
   "outputs": [
    {
     "name": "stdout",
     "output_type": "stream",
     "text": [
      "Constraints for column 'name': \n",
      "[\n",
      "    {\n",
      "        \"name\": \"The values of the feature 'name' are of type STRING\",\n",
      "        \"firstField\": \"column_values_type\",\n",
      "        \"value\": 5.0,\n",
      "        \"op\": \"EQ\",\n",
      "        \"verbose\": false,\n",
      "        \"quantileValue\": 0.0\n",
      "    },\n",
      "    {\n",
      "        \"name\": \"The cardinality of unique values of the feature 'name' is between 488 and 503\",\n",
      "        \"firstField\": \"unique_count\",\n",
      "        \"op\": \"BTWN\",\n",
      "        \"between\": {\n",
      "            \"lowerValue\": 488.0,\n",
      "            \"upperValue\": 503.0\n",
      "        },\n",
      "        \"verbose\": false,\n",
      "        \"quantileValue\": 0.0\n",
      "    }\n",
      "]\n",
      "\n",
      "Constraints for column 'phone': \n",
      "[\n",
      "    {\n",
      "        \"name\": \"The values of the feature 'phone' are of type STRING\",\n",
      "        \"firstField\": \"column_values_type\",\n",
      "        \"value\": 5.0,\n",
      "        \"op\": \"EQ\",\n",
      "        \"verbose\": false,\n",
      "        \"quantileValue\": 0.0\n",
      "    },\n",
      "    {\n",
      "        \"name\": \"The cardinality of unique values of the feature 'phone' is between 489 and 504\",\n",
      "        \"firstField\": \"unique_count\",\n",
      "        \"op\": \"BTWN\",\n",
      "        \"between\": {\n",
      "            \"lowerValue\": 489.0,\n",
      "            \"upperValue\": 504.0\n",
      "        },\n",
      "        \"verbose\": false,\n",
      "        \"quantileValue\": 0.0\n",
      "    }\n",
      "]\n",
      "\n",
      "Constraints for column 'email': \n",
      "[\n",
      "    {\n",
      "        \"name\": \"The values of the feature 'email' are of type STRING\",\n",
      "        \"firstField\": \"column_values_type\",\n",
      "        \"value\": 5.0,\n",
      "        \"op\": \"EQ\",\n",
      "        \"verbose\": false,\n",
      "        \"quantileValue\": 0.0\n",
      "    },\n",
      "    {\n",
      "        \"name\": \"The cardinality of unique values of the feature 'email' is between 488 and 503\",\n",
      "        \"firstField\": \"unique_count\",\n",
      "        \"op\": \"BTWN\",\n",
      "        \"between\": {\n",
      "            \"lowerValue\": 488.0,\n",
      "            \"upperValue\": 503.0\n",
      "        },\n",
      "        \"verbose\": false,\n",
      "        \"quantileValue\": 0.0\n",
      "    }\n",
      "]\n",
      "\n",
      "Constraints for column 'date': \n",
      "[\n",
      "    {\n",
      "        \"name\": \"The values of the feature 'date' are of type STRING\",\n",
      "        \"firstField\": \"column_values_type\",\n",
      "        \"value\": 5.0,\n",
      "        \"op\": \"EQ\",\n",
      "        \"verbose\": false,\n",
      "        \"quantileValue\": 0.0\n",
      "    },\n",
      "    {\n",
      "        \"name\": \"The cardinality of unique values of the feature 'date' is between 456 and 470\",\n",
      "        \"firstField\": \"unique_count\",\n",
      "        \"op\": \"BTWN\",\n",
      "        \"between\": {\n",
      "            \"lowerValue\": 456.0,\n",
      "            \"upperValue\": 470.0\n",
      "        },\n",
      "        \"verbose\": false,\n",
      "        \"quantileValue\": 0.0\n",
      "    }\n",
      "]\n",
      "\n",
      "Constraints for column 'country': \n",
      "[\n",
      "    {\n",
      "        \"name\": \"The values of the feature 'country' are of type STRING\",\n",
      "        \"firstField\": \"column_values_type\",\n",
      "        \"value\": 5.0,\n",
      "        \"op\": \"EQ\",\n",
      "        \"verbose\": false,\n",
      "        \"quantileValue\": 0.0\n",
      "    },\n",
      "    {\n",
      "        \"name\": \"The cardinality of unique values of the feature 'country' is between 30 and 32\",\n",
      "        \"firstField\": \"unique_count\",\n",
      "        \"op\": \"BTWN\",\n",
      "        \"between\": {\n",
      "            \"lowerValue\": 30.0,\n",
      "            \"upperValue\": 32.0\n",
      "        },\n",
      "        \"verbose\": false,\n",
      "        \"quantileValue\": 0.0\n",
      "    },\n",
      "    {\n",
      "        \"name\": \"The most common value of the feature 'country' is in the set {'Russian Federation', 'Netherlands', 'China', 'New Zealand', 'Mexico'}\",\n",
      "        \"firstField\": \"most_common_value\",\n",
      "        \"op\": \"IN\",\n",
      "        \"referenceSet\": [\n",
      "            \"Russian Federation\",\n",
      "            \"Netherlands\",\n",
      "            \"China\",\n",
      "            \"New Zealand\",\n",
      "            \"Mexico\"\n",
      "        ],\n",
      "        \"verbose\": false,\n",
      "        \"quantileValue\": 0.0\n",
      "    }\n",
      "]\n",
      "\n",
      "Constraints for column 'password': \n",
      "[\n",
      "    {\n",
      "        \"name\": \"The values of the feature 'password' are of type STRING\",\n",
      "        \"firstField\": \"column_values_type\",\n",
      "        \"value\": 5.0,\n",
      "        \"op\": \"EQ\",\n",
      "        \"verbose\": false,\n",
      "        \"quantileValue\": 0.0\n",
      "    },\n",
      "    {\n",
      "        \"name\": \"The cardinality of unique values of the feature 'password' is between 497 and 512\",\n",
      "        \"firstField\": \"unique_count\",\n",
      "        \"op\": \"BTWN\",\n",
      "        \"between\": {\n",
      "            \"lowerValue\": 497.0,\n",
      "            \"upperValue\": 512.0\n",
      "        },\n",
      "        \"verbose\": false,\n",
      "        \"quantileValue\": 0.0\n",
      "    }\n",
      "]\n",
      "\n",
      "Constraints for column 'working_speed': \n",
      "[\n",
      "    {\n",
      "        \"name\": \"The mean value of the feature 'working_speed' is between 1.0647309206899003 and 18.59273875019012\",\n",
      "        \"firstField\": \"mean\",\n",
      "        \"op\": \"BTWN\",\n",
      "        \"between\": {\n",
      "            \"lowerValue\": 1.0647309206899003,\n",
      "            \"upperValue\": 18.59273875019012\n",
      "        },\n",
      "        \"verbose\": false,\n",
      "        \"quantileValue\": 0.0\n",
      "    },\n",
      "    {\n",
      "        \"name\": \"The feature 'working_speed' is normally distributed\",\n",
      "        \"firstField\": \"ks_test\",\n",
      "        \"value\": 0.05,\n",
      "        \"op\": \"GT\",\n",
      "        \"continuousDistribution\": {\n",
      "            \"sketch\": {\n",
      "                \"sketch\": \"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\",\n",
      "                \"lgK\": 0\n",
      "            }\n",
      "        },\n",
      "        \"verbose\": false,\n",
      "        \"quantileValue\": 0.0\n",
      "    },\n",
      "    {\n",
      "        \"name\": \"The values of the feature 'working_speed' are of type FRACTIONAL\",\n",
      "        \"firstField\": \"column_values_type\",\n",
      "        \"value\": 2.0,\n",
      "        \"op\": \"EQ\",\n",
      "        \"verbose\": false,\n",
      "        \"quantileValue\": 0.0\n",
      "    }\n",
      "]\n",
      "\n",
      "Constraints for column 'pan': \n",
      "[\n",
      "    {\n",
      "        \"name\": \"The values of the feature 'pan' are of type STRING\",\n",
      "        \"firstField\": \"column_values_type\",\n",
      "        \"value\": 5.0,\n",
      "        \"op\": \"EQ\",\n",
      "        \"verbose\": false,\n",
      "        \"quantileValue\": 0.0\n",
      "    },\n",
      "    {\n",
      "        \"name\": \"The cardinality of unique values of the feature 'pan' is between 325 and 327\",\n",
      "        \"firstField\": \"unique_count\",\n",
      "        \"op\": \"BTWN\",\n",
      "        \"between\": {\n",
      "            \"lowerValue\": 325.0,\n",
      "            \"upperValue\": 327.0\n",
      "        },\n",
      "        \"verbose\": false,\n",
      "        \"quantileValue\": 0.0\n",
      "    },\n",
      "    {\n",
      "        \"name\": \"The most common value of the feature 'pan' is in the set {'633317 17 2936 7487 156'}\",\n",
      "        \"firstField\": \"most_common_value\",\n",
      "        \"op\": \"IN\",\n",
      "        \"referenceSet\": [\n",
      "            \"633317 17 2936 7487 156\"\n",
      "        ],\n",
      "        \"verbose\": false,\n",
      "        \"quantileValue\": 0.0\n",
      "    }\n",
      "]\n",
      "\n"
     ]
    }
   ],
   "source": [
    "dc_json = json.loads(generated_constraints.to_json())\n",
    "\n",
    "for column_name in profile.columns:\n",
    "    if column_name in dc_json['summaryConstraints']: # check whether we have any constraints for the column\n",
    "        constraints = json.dumps(dc_json['summaryConstraints'][column_name]['constraints'], indent=4)\n",
    "        print(f\"Constraints for column \\'{column_name}\\': \\n{constraints}\\n\")\n"
   ]
  },
  {
   "cell_type": "markdown",
   "id": "42627186",
   "metadata": {},
   "source": [
    "Applying the generated constraints"
   ]
  },
  {
   "cell_type": "code",
   "execution_count": 10,
   "id": "cb111a71",
   "metadata": {},
   "outputs": [
    {
     "name": "stdout",
     "output_type": "stream",
     "text": [
      "Constraint failures by feature - \n",
      "name:\n",
      "    test_name                                                                        total_run    failed\n",
      "    The values of the feature 'name' are of type STRING                                      1         0\n",
      "    The cardinality of unique values of the feature 'name' is between 488 and 503            1         0\n",
      "phone:\n",
      "    test_name                                                                         total_run    failed\n",
      "    The values of the feature 'phone' are of type STRING                                      1         0\n",
      "    The cardinality of unique values of the feature 'phone' is between 489 and 504            1         0\n",
      "email:\n",
      "    test_name                                                                         total_run    failed\n",
      "    The values of the feature 'email' are of type STRING                                      1         0\n",
      "    The cardinality of unique values of the feature 'email' is between 488 and 503            1         0\n",
      "date:\n",
      "    test_name                                                                        total_run    failed\n",
      "    The values of the feature 'date' are of type STRING                                      1         0\n",
      "    The cardinality of unique values of the feature 'date' is between 456 and 470            1         0\n",
      "country:\n",
      "    test_name                                                                                                                               total_run    failed\n",
      "    The values of the feature 'country' are of type STRING                                                                                          1         0\n",
      "    The cardinality of unique values of the feature 'country' is between 30 and 32                                                                  1         0\n",
      "    The most common value of the feature 'country' is in the set {'Russian Federation', 'Netherlands', 'China', 'New Zealand', 'Mexico'}            1         0\n",
      "password:\n",
      "    test_name                                                                            total_run    failed\n",
      "    The values of the feature 'password' are of type STRING                                      1         0\n",
      "    The cardinality of unique values of the feature 'password' is between 497 and 512            1         0\n",
      "working_speed:\n",
      "\n",
      "test_name:\tThe mean value of the feature 'working_speed' is between 1.0647309206899003 and 18.59273875019012\n",
      "\n",
      "total_run:\t1\n",
      "\n",
      "failed:\t\t0\n",
      "\n",
      "pan:\n",
      "    test_name                                                                               total_run    failed\n",
      "    The values of the feature 'pan' are of type STRING                                              1         0\n",
      "    The cardinality of unique values of the feature 'pan' is between 325 and 327                    1         0\n",
      "    The most common value of the feature 'pan' is in the set {'633317 17 2936 7487 156'}            1         0\n"
     ]
    }
   ],
   "source": [
    "generated_summary_constraints = generated_constraints.summary_constraint_map # Getting the summary constraints\n",
    "report = profile.apply_summary_constraints(generated_summary_constraints)\n",
    "\n",
    "format_report(report)"
   ]
  },
  {
   "cell_type": "markdown",
   "id": "8698be2f",
   "metadata": {},
   "source": [
    "As expected, all of these constraints pass, since the values and thresholds used to create them is inferred from the actual data.\n",
    "In some cases the data insights created from the generated constraints can help with better understanding of the logged data."
   ]
  },
  {
   "cell_type": "code",
   "execution_count": 11,
   "id": "21cd58ea",
   "metadata": {},
   "outputs": [
    {
     "name": "stdout",
     "output_type": "stream",
     "text": [
      "Feature: 'name'\n",
      "The values of the feature 'name' are of type STRING\n",
      "The cardinality of unique values of the feature 'name' is between 488 and 503\n",
      "\n",
      "Feature: 'phone'\n",
      "The values of the feature 'phone' are of type STRING\n",
      "The cardinality of unique values of the feature 'phone' is between 489 and 504\n",
      "\n",
      "Feature: 'email'\n",
      "The feature 'email' contains some values identified as e-mail addresses\n",
      "The values of the feature 'email' are of type STRING\n",
      "The cardinality of unique values of the feature 'email' is between 488 and 503\n",
      "\n",
      "Feature: 'date'\n",
      "The values of the feature 'date' are of type STRING\n",
      "The cardinality of unique values of the feature 'date' is between 456 and 470\n",
      "\n",
      "Feature: 'country'\n",
      "The values of the feature 'country' are of type STRING\n",
      "The cardinality of unique values of the feature 'country' is between 30 and 32\n",
      "The most common value of the feature 'country' is in the set {'Russian Federation', 'Netherlands', 'China', 'New Zealand', 'Mexico'}\n",
      "\n",
      "Feature: 'password'\n",
      "The values of the feature 'password' are of type STRING\n",
      "The cardinality of unique values of the feature 'password' is between 497 and 512\n",
      "\n",
      "Feature: 'working_speed'\n",
      "The mean value of the feature 'working_speed' is between 1.0647309206899003 and 18.59273875019012\n",
      "The feature 'working_speed' is normally distributed\n",
      "The values of the feature 'working_speed' are of type FRACTIONAL\n",
      "\n",
      "Feature: 'pan'\n",
      "The feature 'pan' contains some values identified as credit card numbers\n",
      "The values of the feature 'pan' are of type STRING\n",
      "The cardinality of unique values of the feature 'pan' is between 325 and 327\n",
      "The most common value of the feature 'pan' is in the set {'633317 17 2936 7487 156'}\n",
      "\n"
     ]
    }
   ],
   "source": [
    "data_insights = profile.generate_data_insights()\n",
    "\n",
    "for column_name, insights in data_insights.items():\n",
    "    print (f\"Feature: \\'{column_name}\\'\")\n",
    "    for insight in insights:\n",
    "        print (insight)\n",
    "    print ()"
   ]
  },
  {
   "cell_type": "code",
   "execution_count": null,
   "id": "b1323b01",
   "metadata": {},
   "outputs": [],
   "source": []
  },
  {
   "cell_type": "code",
   "execution_count": null,
   "id": "dea160c1",
   "metadata": {},
   "outputs": [],
   "source": []
  }
 ],
 "metadata": {
  "kernelspec": {
   "display_name": "Python 3",
   "language": "python",
   "name": "python3"
  },
  "language_info": {
   "codemirror_mode": {
    "name": "ipython",
    "version": 3
   },
   "file_extension": ".py",
   "mimetype": "text/x-python",
   "name": "python",
   "nbconvert_exporter": "python",
   "pygments_lexer": "ipython3",
   "version": "3.9.7"
  }
 },
 "nbformat": 4,
 "nbformat_minor": 5
}
