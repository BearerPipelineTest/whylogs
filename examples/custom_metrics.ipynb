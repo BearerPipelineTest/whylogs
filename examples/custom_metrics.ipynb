{
 "cells": [
  {
   "cell_type": "code",
   "execution_count": 1,
   "source": [
    "import os.path\n",
    "import pandas as pd\n",
    "import numpy as np"
   ],
   "outputs": [],
   "metadata": {}
  },
  {
   "cell_type": "code",
   "execution_count": 2,
   "source": [
    "from whylogs.v2 import get_or_create_session\n",
    "from whylogs.v2 import MetricPlugin"
   ],
   "outputs": [],
   "metadata": {}
  },
  {
   "cell_type": "code",
   "execution_count": 3,
   "source": [
    "session = get_or_create_session()"
   ],
   "outputs": [
    {
     "output_type": "stream",
     "name": "stdout",
     "text": [
      "WARN: Missing config\n"
     ]
    }
   ],
   "metadata": {}
  },
  {
   "cell_type": "code",
   "execution_count": 4,
   "source": [
    "print(\"Current working directory:\", os.getcwd())"
   ],
   "outputs": [
    {
     "output_type": "stream",
     "name": "stdout",
     "text": [
      "Current working directory: /home/jamie/projects/whylogs/examples\n"
     ]
    }
   ],
   "metadata": {}
  },
  {
   "cell_type": "code",
   "execution_count": 5,
   "source": [
    "data_file = \"data/custom_metric_sample.txt\"\n",
    "data_file2 = \"data/custom_metric_sample2.txt\""
   ],
   "outputs": [],
   "metadata": {
    "scrolled": true
   }
  },
  {
   "cell_type": "code",
   "execution_count": 6,
   "source": [
    "data = pd.read_csv(os.path.join(data_file), delimiter = '\\n')\n",
    "data"
   ],
   "outputs": [
    {
     "output_type": "execute_result",
     "data": {
      "text/html": [
       "<div>\n",
       "<style scoped>\n",
       "    .dataframe tbody tr th:only-of-type {\n",
       "        vertical-align: middle;\n",
       "    }\n",
       "\n",
       "    .dataframe tbody tr th {\n",
       "        vertical-align: top;\n",
       "    }\n",
       "\n",
       "    .dataframe thead th {\n",
       "        text-align: right;\n",
       "    }\n",
       "</style>\n",
       "<table border=\"1\" class=\"dataframe\">\n",
       "  <thead>\n",
       "    <tr style=\"text-align: right;\">\n",
       "      <th></th>\n",
       "      <th>Text</th>\n",
       "    </tr>\n",
       "  </thead>\n",
       "  <tbody>\n",
       "    <tr>\n",
       "      <th>0</th>\n",
       "      <td>Much Ado About Nothing</td>\n",
       "    </tr>\n",
       "    <tr>\n",
       "      <th>1</th>\n",
       "      <td>ACT I</td>\n",
       "    </tr>\n",
       "    <tr>\n",
       "      <th>2</th>\n",
       "      <td>SCENE I. Before LEONATO'S house.</td>\n",
       "    </tr>\n",
       "    <tr>\n",
       "      <th>3</th>\n",
       "      <td>Enter LEONATO, HERO, and BEATRICE, with a Mess...</td>\n",
       "    </tr>\n",
       "    <tr>\n",
       "      <th>4</th>\n",
       "      <td>LEONATO</td>\n",
       "    </tr>\n",
       "    <tr>\n",
       "      <th>...</th>\n",
       "      <td>...</td>\n",
       "    </tr>\n",
       "    <tr>\n",
       "      <th>3678</th>\n",
       "      <td>Think not on him till to-morrow:</td>\n",
       "    </tr>\n",
       "    <tr>\n",
       "      <th>3679</th>\n",
       "      <td>I'll devise thee brave punishments for him.</td>\n",
       "    </tr>\n",
       "    <tr>\n",
       "      <th>3680</th>\n",
       "      <td>Strike up, pipers.</td>\n",
       "    </tr>\n",
       "    <tr>\n",
       "      <th>3681</th>\n",
       "      <td>Dance</td>\n",
       "    </tr>\n",
       "    <tr>\n",
       "      <th>3682</th>\n",
       "      <td>Exeunt</td>\n",
       "    </tr>\n",
       "  </tbody>\n",
       "</table>\n",
       "<p>3683 rows × 1 columns</p>\n",
       "</div>"
      ],
      "text/plain": [
       "                                                   Text\n",
       "0                                Much Ado About Nothing\n",
       "1                                                 ACT I\n",
       "2                      SCENE I. Before LEONATO'S house.\n",
       "3     Enter LEONATO, HERO, and BEATRICE, with a Mess...\n",
       "4                                               LEONATO\n",
       "...                                                 ...\n",
       "3678                   Think not on him till to-morrow:\n",
       "3679        I'll devise thee brave punishments for him.\n",
       "3680                                 Strike up, pipers.\n",
       "3681                                              Dance\n",
       "3682                                             Exeunt\n",
       "\n",
       "[3683 rows x 1 columns]"
      ]
     },
     "metadata": {},
     "execution_count": 6
    }
   ],
   "metadata": {
    "scrolled": true
   }
  },
  {
   "cell_type": "code",
   "execution_count": 7,
   "source": [
    "data2 = pd.read_csv(os.path.join(data_file2), delimiter = '\\n')\n",
    "data2"
   ],
   "outputs": [
    {
     "output_type": "execute_result",
     "data": {
      "text/html": [
       "<div>\n",
       "<style scoped>\n",
       "    .dataframe tbody tr th:only-of-type {\n",
       "        vertical-align: middle;\n",
       "    }\n",
       "\n",
       "    .dataframe tbody tr th {\n",
       "        vertical-align: top;\n",
       "    }\n",
       "\n",
       "    .dataframe thead th {\n",
       "        text-align: right;\n",
       "    }\n",
       "</style>\n",
       "<table border=\"1\" class=\"dataframe\">\n",
       "  <thead>\n",
       "    <tr style=\"text-align: right;\">\n",
       "      <th></th>\n",
       "      <th>Text</th>\n",
       "    </tr>\n",
       "  </thead>\n",
       "  <tbody>\n",
       "    <tr>\n",
       "      <th>0</th>\n",
       "      <td>Hamlet</td>\n",
       "    </tr>\n",
       "    <tr>\n",
       "      <th>1</th>\n",
       "      <td>ACT I</td>\n",
       "    </tr>\n",
       "    <tr>\n",
       "      <th>2</th>\n",
       "      <td>SCENE I. Elsinore. A platform before the castle.</td>\n",
       "    </tr>\n",
       "    <tr>\n",
       "      <th>3</th>\n",
       "      <td>FRANCISCO at his post. Enter to him BERNARDO</td>\n",
       "    </tr>\n",
       "    <tr>\n",
       "      <th>4</th>\n",
       "      <td>BERNARDO</td>\n",
       "    </tr>\n",
       "    <tr>\n",
       "      <th>...</th>\n",
       "      <td>...</td>\n",
       "    </tr>\n",
       "    <tr>\n",
       "      <th>5376</th>\n",
       "      <td>Speak loudly for him.</td>\n",
       "    </tr>\n",
       "    <tr>\n",
       "      <th>5377</th>\n",
       "      <td>Take up the bodies: such a sight as this</td>\n",
       "    </tr>\n",
       "    <tr>\n",
       "      <th>5378</th>\n",
       "      <td>Becomes the field, but here shows much amiss.</td>\n",
       "    </tr>\n",
       "    <tr>\n",
       "      <th>5379</th>\n",
       "      <td>Go, bid the soldiers shoot.</td>\n",
       "    </tr>\n",
       "    <tr>\n",
       "      <th>5380</th>\n",
       "      <td>A dead march. Exeunt, bearing off the dead bod...</td>\n",
       "    </tr>\n",
       "  </tbody>\n",
       "</table>\n",
       "<p>5381 rows × 1 columns</p>\n",
       "</div>"
      ],
      "text/plain": [
       "                                                   Text\n",
       "0                                                Hamlet\n",
       "1                                                 ACT I\n",
       "2      SCENE I. Elsinore. A platform before the castle.\n",
       "3          FRANCISCO at his post. Enter to him BERNARDO\n",
       "4                                              BERNARDO\n",
       "...                                                 ...\n",
       "5376                              Speak loudly for him.\n",
       "5377           Take up the bodies: such a sight as this\n",
       "5378      Becomes the field, but here shows much amiss.\n",
       "5379                        Go, bid the soldiers shoot.\n",
       "5380  A dead march. Exeunt, bearing off the dead bod...\n",
       "\n",
       "[5381 rows x 1 columns]"
      ]
     },
     "metadata": {},
     "execution_count": 7
    }
   ],
   "metadata": {}
  },
  {
   "cell_type": "code",
   "execution_count": 8,
   "source": [
    "target_column_name = data.columns[0]\n",
    "target_column_name"
   ],
   "outputs": [
    {
     "output_type": "execute_result",
     "data": {
      "text/plain": [
       "'Text'"
      ]
     },
     "metadata": {},
     "execution_count": 8
    }
   ],
   "metadata": {}
  },
  {
   "cell_type": "code",
   "execution_count": 9,
   "source": [
    "target_column_name2 = data2.columns[0]\n",
    "target_column_name2"
   ],
   "outputs": [
    {
     "output_type": "execute_result",
     "data": {
      "text/plain": [
       "'Text'"
      ]
     },
     "metadata": {},
     "execution_count": 9
    }
   ],
   "metadata": {}
  },
  {
   "cell_type": "code",
   "execution_count": null,
   "source": [],
   "outputs": [],
   "metadata": {}
  },
  {
   "cell_type": "code",
   "execution_count": 10,
   "source": [
    "# Ok here is a sample custom metric that \n",
    "from dataclasses import dataclass\n",
    "from json import loads\n",
    "\n",
    "@dataclass\n",
    "class TargetWordCountMetric(MetricPlugin):\n",
    "    target_string: str = 'ACT'\n",
    "    name: str = 'TargetWordCounter'\n",
    "    target_column_name: str = ''\n",
    "    word_counts: int = 0\n",
    "\n",
    "    def track(self, data):\n",
    "        if self.target_string in data:\n",
    "            self.word_counts = self.word_counts + data.count(self.target_string)\n",
    "\n",
    "    def merge(self, other: 'TargetWordCountMetric'):\n",
    "        if other is None or other is self:\n",
    "           return self\n",
    "        # maybe you need to check if these are mergeable or not\n",
    "        if self.target_string != other.target_string:\n",
    "            raise ValueError(f\"Cannot merge word counts of different target strings: '{self.target_string}' != '{other.target_string}'\")\n",
    "        # Custom metrics can define how they merge, here we add counts of the matching target strings.\n",
    "        self.word_counts = self.word_counts + other.word_counts\n"
   ],
   "outputs": [],
   "metadata": {}
  },
  {
   "cell_type": "code",
   "execution_count": 11,
   "source": [
    "logger = session.logger(dataset_name='test.data')"
   ],
   "outputs": [],
   "metadata": {}
  },
  {
   "cell_type": "code",
   "execution_count": 12,
   "source": [
    "profile = logger.profile\n",
    "profile"
   ],
   "outputs": [
    {
     "output_type": "execute_result",
     "data": {
      "text/plain": [
       "<whylogs.v2.core.datasetprofile.DatasetProfile at 0x7f48d7642a30>"
      ]
     },
     "metadata": {},
     "execution_count": 12
    }
   ],
   "metadata": {}
  },
  {
   "cell_type": "code",
   "execution_count": 13,
   "source": [
    "print(target_column_name)\n",
    "count_acts = TargetWordCountMetric(name='ActCounter', target_string= 'ACT', target_column_name=target_column_name)\n",
    "count_scenes = TargetWordCountMetric(name='SceneCounter', target_string= 'SCENE', target_column_name=target_column_name)\n"
   ],
   "outputs": [
    {
     "output_type": "stream",
     "name": "stdout",
     "text": [
      "Text\n"
     ]
    }
   ],
   "metadata": {}
  },
  {
   "cell_type": "code",
   "execution_count": 14,
   "source": [
    "logger.add_metric_plugin(count_acts)\n",
    "logger.add_metric_plugin(count_scenes)"
   ],
   "outputs": [],
   "metadata": {}
  },
  {
   "cell_type": "code",
   "execution_count": 15,
   "source": [
    "logger.plugins"
   ],
   "outputs": [
    {
     "output_type": "execute_result",
     "data": {
      "text/plain": [
       "{'ActCounter': TargetWordCountMetric(target_string='ACT', name='ActCounter', target_column_name='Text', word_counts=0),\n",
       " 'SceneCounter': TargetWordCountMetric(target_string='SCENE', name='SceneCounter', target_column_name='Text', word_counts=0)}"
      ]
     },
     "metadata": {},
     "execution_count": 15
    }
   ],
   "metadata": {}
  },
  {
   "cell_type": "code",
   "execution_count": 16,
   "source": [
    "logger.plugins\n"
   ],
   "outputs": [
    {
     "output_type": "execute_result",
     "data": {
      "text/plain": [
       "{'ActCounter': TargetWordCountMetric(target_string='ACT', name='ActCounter', target_column_name='Text', word_counts=0),\n",
       " 'SceneCounter': TargetWordCountMetric(target_string='SCENE', name='SceneCounter', target_column_name='Text', word_counts=0)}"
      ]
     },
     "metadata": {},
     "execution_count": 16
    }
   ],
   "metadata": {}
  },
  {
   "cell_type": "code",
   "execution_count": 17,
   "source": [
    "logger.log_dataframe(data)"
   ],
   "outputs": [],
   "metadata": {}
  },
  {
   "cell_type": "code",
   "execution_count": 18,
   "source": [
    "logger.plugins\n"
   ],
   "outputs": [
    {
     "output_type": "execute_result",
     "data": {
      "text/plain": [
       "{'ActCounter': TargetWordCountMetric(target_string='ACT', name='ActCounter', target_column_name='Text', word_counts=5),\n",
       " 'SceneCounter': TargetWordCountMetric(target_string='SCENE', name='SceneCounter', target_column_name='Text', word_counts=17)}"
      ]
     },
     "metadata": {},
     "execution_count": 18
    }
   ],
   "metadata": {}
  },
  {
   "cell_type": "code",
   "execution_count": 19,
   "source": [
    "logger.log_dataframe(data2)"
   ],
   "outputs": [],
   "metadata": {}
  },
  {
   "cell_type": "code",
   "execution_count": 20,
   "source": [
    "logger.plugins\n"
   ],
   "outputs": [
    {
     "output_type": "execute_result",
     "data": {
      "text/plain": [
       "{'ActCounter': TargetWordCountMetric(target_string='ACT', name='ActCounter', target_column_name='Text', word_counts=10),\n",
       " 'SceneCounter': TargetWordCountMetric(target_string='SCENE', name='SceneCounter', target_column_name='Text', word_counts=37)}"
      ]
     },
     "metadata": {},
     "execution_count": 20
    }
   ],
   "metadata": {}
  },
  {
   "cell_type": "code",
   "execution_count": 21,
   "source": [
    "profile.session_id"
   ],
   "outputs": [
    {
     "output_type": "execute_result",
     "data": {
      "text/plain": [
       "'f04e2ac7-114f-4b0f-898d-f72ceac1e9e9'"
      ]
     },
     "metadata": {},
     "execution_count": 21
    }
   ],
   "metadata": {}
  },
  {
   "cell_type": "code",
   "execution_count": 22,
   "source": [
    "logger.close()"
   ],
   "outputs": [
    {
     "output_type": "execute_result",
     "data": {
      "text/plain": [
       "<whylogs.v2.core.datasetprofile.DatasetProfile at 0x7f48d7642a30>"
      ]
     },
     "metadata": {},
     "execution_count": 22
    }
   ],
   "metadata": {}
  }
 ],
 "metadata": {
  "orig_nbformat": 4,
  "language_info": {
   "name": "python",
   "version": "3.8.10",
   "mimetype": "text/x-python",
   "codemirror_mode": {
    "name": "ipython",
    "version": 3
   },
   "pygments_lexer": "ipython3",
   "nbconvert_exporter": "python",
   "file_extension": ".py"
  },
  "kernelspec": {
   "name": "python3",
   "display_name": "Python 3.8.10 64-bit"
  },
  "interpreter": {
   "hash": "31f2aee4e71d21fbe5cf8b01ff0e069b9275f58929596ceb00d14d90e3e16cd6"
  }
 },
 "nbformat": 4,
 "nbformat_minor": 2
}