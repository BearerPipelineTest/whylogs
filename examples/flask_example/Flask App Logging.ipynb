{
 "cells": [
  {
   "cell_type": "code",
   "execution_count": 37,
   "id": "d1e204f8",
   "metadata": {},
   "outputs": [
    {
     "name": "stdout",
     "output_type": "stream",
     "text": [
      "Files already downloaded and verified\n"
     ]
    },
    {
     "data": {
      "text/plain": [
       "{'class_id': 'n02280649', 'class_name': 'cabbage_butterfly'}"
      ]
     },
     "execution_count": 37,
     "metadata": {},
     "output_type": "execute_result"
    }
   ],
   "source": [
    "import requests\n",
    "from torchvision import transforms,datasets\n",
    "trainset = datasets.CIFAR10('./data',\n",
    "download=True,train=True)\n",
    "resp = requests.post(\"http://localhost:5000/predict\",\n",
    "                     json={\"file\": '../data/flower2.jpg'})\n",
    "resp.json()"
   ]
  },
  {
   "cell_type": "code",
   "execution_count": 39,
   "id": "5c6153f6",
   "metadata": {},
   "outputs": [],
   "source": [
    "import glob \n",
    "files=glob.glob(\"output/*/*/*/*.bin\")"
   ]
  },
  {
   "cell_type": "code",
   "execution_count": 41,
   "id": "af2ecf46",
   "metadata": {},
   "outputs": [],
   "source": [
    "from whylogs import DatasetProfile\n",
    "profile=DatasetProfile.read_protobuf(files[-1])"
   ]
  },
  {
   "cell_type": "code",
   "execution_count": 42,
   "id": "ef999afb",
   "metadata": {},
   "outputs": [],
   "source": [
    "from whylogs.viz import profile_viewer"
   ]
  },
  {
   "cell_type": "code",
   "execution_count": 44,
   "id": "700de9ef",
   "metadata": {},
   "outputs": [
    {
     "data": {
      "text/plain": [
       "'/var/folders/pr/f715zv8x17b1v5vwydgv2gq40000gq/T/tmp2c05s8s1.html'"
      ]
     },
     "execution_count": 44,
     "metadata": {},
     "output_type": "execute_result"
    }
   ],
   "source": [
    "profile_viewer(profiles=[profile])"
   ]
  },
  {
   "cell_type": "code",
   "execution_count": null,
   "id": "cd4ce054",
   "metadata": {},
   "outputs": [],
   "source": []
  }
 ],
 "metadata": {
  "kernelspec": {
   "display_name": "whylogs-dev",
   "language": "python",
   "name": "whylogs-dev"
  },
  "language_info": {
   "codemirror_mode": {
    "name": "ipython",
    "version": 3
   },
   "file_extension": ".py",
   "mimetype": "text/x-python",
   "name": "python",
   "nbconvert_exporter": "python",
   "pygments_lexer": "ipython3",
   "version": "3.9.6"
  }
 },
 "nbformat": 4,
 "nbformat_minor": 5
}
