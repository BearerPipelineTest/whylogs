{
 "cells": [
  {
   "cell_type": "markdown",
   "id": "fd78a767",
   "metadata": {},
   "source": [
    "# Dataset Profiler Viewer"
   ]
  },
  {
   "cell_type": "markdown",
   "id": "6be3f6e9",
   "metadata": {},
   "source": [
    "Summarize large datasets in a easy to navigate and shareable view."
   ]
  },
  {
   "cell_type": "code",
   "execution_count": null,
   "id": "1f0ab34a",
   "metadata": {},
   "outputs": [],
   "source": [
    "import numpy as np\n",
    "import datetime"
   ]
  },
  {
   "cell_type": "code",
   "execution_count": null,
   "id": "fc04cc42",
   "metadata": {},
   "outputs": [],
   "source": [
    "from whylogs import get_or_create_session\n",
    "from whylogs.core import DatasetProfile\n",
    "from whylogs.viz import profile_viewer"
   ]
  },
  {
   "cell_type": "markdown",
   "id": "0bb295e1",
   "metadata": {},
   "source": [
    "## 🥬 Fresh  Data for Logging"
   ]
  },
  {
   "cell_type": "code",
   "execution_count": null,
   "id": "1232b2a8",
   "metadata": {},
   "outputs": [],
   "source": [
    "!pip install faker"
   ]
  },
  {
   "cell_type": "code",
   "execution_count": 14,
   "id": "7ebc0b5f",
   "metadata": {},
   "outputs": [],
   "source": [
    "from collections import OrderedDict\n",
    "from faker import Faker\n",
    "\n",
    "locales = OrderedDict([\n",
    "    ('en-US', 1),\n",
    "    ('fr-FR', 2),\n",
    "    ('ja_JP', 2),\n",
    "])\n",
    "fake= Faker(locales)\n",
    "distribution = np.concatenate((np.random.normal(0.1, 0.1, 500), np.random.normal(0.6, 0.2, 500)))"
   ]
  },
  {
   "cell_type": "markdown",
   "id": "9adec772",
   "metadata": {},
   "source": [
    "### 📝 Log it"
   ]
  },
  {
   "cell_type": "code",
   "execution_count": 17,
   "id": "2e018520",
   "metadata": {},
   "outputs": [],
   "source": [
    "session = get_or_create_session()\n",
    "with session.logger(\"mytestytest\",dataset_timestamp=datetime.datetime(2021, 6, 2)) as logger:\n",
    "    for _ in range(500):\n",
    "        logger.log({\"uniform_integers\": np.random.randint(0,50)})\n",
    "        logger.log({\"strings\": fake.name()})\n",
    "        logger.log({\"mixture_distribution\": np.random.choice(distribution, 1)[0]})\n",
    "        logger.log({\"nulls\": None})\n",
    "    logger.log({\"moah_data\":1})\n",
    "    logger.log({\"moah_data\":1})\n",
    "    logger.log({\"moah_data\":5})\n",
    "    profile=logger.profile"
   ]
  },
  {
   "cell_type": "markdown",
   "id": "8e4d51a7",
   "metadata": {},
   "source": [
    "## 👀 open viewer"
   ]
  },
  {
   "cell_type": "markdown",
   "id": "462e6010",
   "metadata": {},
   "source": [
    "By calling `profiler_viewer`, it will generate a self contained html file with a summary of your profiled dataset.\n",
    "You can pass an argument for the specific path, otherwise it will save it in your OS temporary folder."
   ]
  },
  {
   "cell_type": "code",
   "execution_count": 16,
   "id": "e293634d",
   "metadata": {},
   "outputs": [
    {
     "data": {
      "text/plain": [
       "'/var/folders/pr/f715zv8x17b1v5vwydgv2gq40000gq/T/tmpabxku502.html'"
      ]
     },
     "execution_count": 16,
     "metadata": {},
     "output_type": "execute_result"
    }
   ],
   "source": [
    "profile_viewer(profiles=[profile], output_path=None)"
   ]
  },
  {
   "cell_type": "code",
   "execution_count": null,
   "id": "d09732c5",
   "metadata": {},
   "outputs": [],
   "source": []
  }
 ],
 "metadata": {
  "kernelspec": {
   "display_name": "whylogs-dev",
   "language": "python",
   "name": "whylogs-dev"
  },
  "language_info": {
   "codemirror_mode": {
    "name": "ipython",
    "version": 3
   },
   "file_extension": ".py",
   "mimetype": "text/x-python",
   "name": "python",
   "nbconvert_exporter": "python",
   "pygments_lexer": "ipython3",
   "version": "3.9.6"
  }
 },
 "nbformat": 4,
 "nbformat_minor": 5
}
