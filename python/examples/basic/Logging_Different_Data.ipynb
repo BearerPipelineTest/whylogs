{
 "cells": [
  {
   "cell_type": "markdown",
   "metadata": {
    "collapsed": true,
    "pycharm": {
     "name": "#%% md\n"
    }
   },
   "source": [
    "# (why)Logging\n",
    "\n",
    "WhyLogs enables logging different types of data that can then be used to monitor the data. We'll go through examples on different types of data to log and go more in depth on different options. Before we get going though, let's import whylogs.\n"
   ]
  },
  {
   "cell_type": "code",
   "execution_count": 5,
   "outputs": [
    {
     "name": "stdout",
     "output_type": "stream",
     "text": [
      "\u001B[33mWARNING: You are using pip version 22.0.3; however, version 22.1 is available.\r\n",
      "You should consider upgrading via the '/Users/melanie/Dev/whylogs-v1/python/.venv/bin/python -m pip install --upgrade pip' command.\u001B[0m\u001B[33m\r\n",
      "\u001B[0m"
     ]
    }
   ],
   "source": [
    "!pip install -q whylogs"
   ],
   "metadata": {
    "collapsed": false,
    "pycharm": {
     "name": "#%%\n"
    }
   }
  },
  {
   "cell_type": "markdown",
   "source": [
    "## Table of Contents\n",
    "#### [Log Pandas Dataframe](#log_dataframe) | [Log Dictionary](#log_dict) | [Log an Image](#log_image) | [Display Logs](#display)"
   ],
   "metadata": {
    "collapsed": false,
    "pycharm": {
     "name": "#%% md\n"
    }
   }
  },
  {
   "cell_type": "markdown",
   "source": [
    "## Log Pandas DataFrame <a class=\"anchor\" id=\"log_dataframe\"></a>\n",
    "\n",
    "We will be generating log by importing data from a CSV into Pandas Dataframe, logging it with the whylogs python library."
   ],
   "metadata": {
    "collapsed": false
   }
  },
  {
   "cell_type": "code",
   "execution_count": 6,
   "outputs": [
    {
     "data": {
      "text/plain": "    Transaction ID Customer ID  Product Subcategory Code  \\\n0     T25601292314     C268458                        12   \n1      T1465175267     C271344                         3   \n2      T4968790114     C272305                         4   \n3     T50504166310     C275057                         4   \n4     T10877729712     C270074                        10   \n..             ...         ...                       ...   \n904   T89167826318     C274270                        10   \n905   T87193008634     C271051                        11   \n906   T84036395834     C270763                        11   \n907   T72150045625     C270432                        11   \n908   T97942600110     C269559                         4   \n\n     Product Category Code  Item Price  Total Tax  Total Amount  \\\n0                        6       114.9    24.1290      253.9290   \n1                        5       107.7    22.6170      238.0170   \n2                        3        14.6     7.6650       80.6650   \n3                        4        15.7     4.9455       52.0455   \n4                        5       144.1    45.3915      477.6915   \n..                     ...         ...        ...           ...   \n904                      5        68.2    14.3220      150.7220   \n905                      6       124.2    52.1640      548.9640   \n906                      5        77.9    16.3590      172.1590   \n907                      5        11.8     4.9560       52.1560   \n908                      3        67.9    35.6475      375.1475   \n\n         Store Type  Product Category Product Subcategory Date of Birth  \\\n0          TeleShop  Home and kitchen               Tools    1976-10-08   \n1            e-Shop             Books              Comics    1970-01-29   \n2            e-Shop       Electronics             Mobiles    1975-08-25   \n3               MBR              Bags               Women    1980-09-17   \n4            e-Shop             Books         Non-Fiction    1983-02-20   \n..              ...               ...                 ...           ...   \n904  Flagship store             Books         Non-Fiction    1972-06-06   \n905          e-Shop  Home and kitchen                Bath    1976-02-13   \n906        TeleShop             Books            Children    1991-02-10   \n907          e-Shop             Books            Children    1982-09-17   \n908          e-Shop       Electronics             Mobiles    1972-06-24   \n\n    Gender  City Code  Age at Transaction Date  Purchase Canceled  \\\n0        M        1.0                     36.0                0.0   \n1        F        5.0                     43.0                0.0   \n2        F       10.0                     37.0                0.0   \n3        M        7.0                     32.0                0.0   \n4        M       10.0                     30.0                0.0   \n..     ...        ...                      ...                ...   \n904      F        1.0                     40.0                0.0   \n905      F        3.0                     36.0                0.0   \n906      F        8.0                     21.0                0.0   \n907      M        7.0                     30.0                1.0   \n908      M        1.0                     40.0                0.0   \n\n     Transaction Day of Week  Transaction Week  Transaction Batch  \n0                          0                 0                  0  \n1                          0                 0                  0  \n2                          0                 0                  0  \n3                          0                 0                  0  \n4                          0                 0                  0  \n..                       ...               ...                ...  \n904                        0                 0                  0  \n905                        0                 0                  0  \n906                        0                 0                  0  \n907                        0                 0                  0  \n908                        0                 0                  0  \n\n[909 rows x 18 columns]",
      "text/html": "<div>\n<style scoped>\n    .dataframe tbody tr th:only-of-type {\n        vertical-align: middle;\n    }\n\n    .dataframe tbody tr th {\n        vertical-align: top;\n    }\n\n    .dataframe thead th {\n        text-align: right;\n    }\n</style>\n<table border=\"1\" class=\"dataframe\">\n  <thead>\n    <tr style=\"text-align: right;\">\n      <th></th>\n      <th>Transaction ID</th>\n      <th>Customer ID</th>\n      <th>Product Subcategory Code</th>\n      <th>Product Category Code</th>\n      <th>Item Price</th>\n      <th>Total Tax</th>\n      <th>Total Amount</th>\n      <th>Store Type</th>\n      <th>Product Category</th>\n      <th>Product Subcategory</th>\n      <th>Date of Birth</th>\n      <th>Gender</th>\n      <th>City Code</th>\n      <th>Age at Transaction Date</th>\n      <th>Purchase Canceled</th>\n      <th>Transaction Day of Week</th>\n      <th>Transaction Week</th>\n      <th>Transaction Batch</th>\n    </tr>\n  </thead>\n  <tbody>\n    <tr>\n      <th>0</th>\n      <td>T25601292314</td>\n      <td>C268458</td>\n      <td>12</td>\n      <td>6</td>\n      <td>114.9</td>\n      <td>24.1290</td>\n      <td>253.9290</td>\n      <td>TeleShop</td>\n      <td>Home and kitchen</td>\n      <td>Tools</td>\n      <td>1976-10-08</td>\n      <td>M</td>\n      <td>1.0</td>\n      <td>36.0</td>\n      <td>0.0</td>\n      <td>0</td>\n      <td>0</td>\n      <td>0</td>\n    </tr>\n    <tr>\n      <th>1</th>\n      <td>T1465175267</td>\n      <td>C271344</td>\n      <td>3</td>\n      <td>5</td>\n      <td>107.7</td>\n      <td>22.6170</td>\n      <td>238.0170</td>\n      <td>e-Shop</td>\n      <td>Books</td>\n      <td>Comics</td>\n      <td>1970-01-29</td>\n      <td>F</td>\n      <td>5.0</td>\n      <td>43.0</td>\n      <td>0.0</td>\n      <td>0</td>\n      <td>0</td>\n      <td>0</td>\n    </tr>\n    <tr>\n      <th>2</th>\n      <td>T4968790114</td>\n      <td>C272305</td>\n      <td>4</td>\n      <td>3</td>\n      <td>14.6</td>\n      <td>7.6650</td>\n      <td>80.6650</td>\n      <td>e-Shop</td>\n      <td>Electronics</td>\n      <td>Mobiles</td>\n      <td>1975-08-25</td>\n      <td>F</td>\n      <td>10.0</td>\n      <td>37.0</td>\n      <td>0.0</td>\n      <td>0</td>\n      <td>0</td>\n      <td>0</td>\n    </tr>\n    <tr>\n      <th>3</th>\n      <td>T50504166310</td>\n      <td>C275057</td>\n      <td>4</td>\n      <td>4</td>\n      <td>15.7</td>\n      <td>4.9455</td>\n      <td>52.0455</td>\n      <td>MBR</td>\n      <td>Bags</td>\n      <td>Women</td>\n      <td>1980-09-17</td>\n      <td>M</td>\n      <td>7.0</td>\n      <td>32.0</td>\n      <td>0.0</td>\n      <td>0</td>\n      <td>0</td>\n      <td>0</td>\n    </tr>\n    <tr>\n      <th>4</th>\n      <td>T10877729712</td>\n      <td>C270074</td>\n      <td>10</td>\n      <td>5</td>\n      <td>144.1</td>\n      <td>45.3915</td>\n      <td>477.6915</td>\n      <td>e-Shop</td>\n      <td>Books</td>\n      <td>Non-Fiction</td>\n      <td>1983-02-20</td>\n      <td>M</td>\n      <td>10.0</td>\n      <td>30.0</td>\n      <td>0.0</td>\n      <td>0</td>\n      <td>0</td>\n      <td>0</td>\n    </tr>\n    <tr>\n      <th>...</th>\n      <td>...</td>\n      <td>...</td>\n      <td>...</td>\n      <td>...</td>\n      <td>...</td>\n      <td>...</td>\n      <td>...</td>\n      <td>...</td>\n      <td>...</td>\n      <td>...</td>\n      <td>...</td>\n      <td>...</td>\n      <td>...</td>\n      <td>...</td>\n      <td>...</td>\n      <td>...</td>\n      <td>...</td>\n      <td>...</td>\n    </tr>\n    <tr>\n      <th>904</th>\n      <td>T89167826318</td>\n      <td>C274270</td>\n      <td>10</td>\n      <td>5</td>\n      <td>68.2</td>\n      <td>14.3220</td>\n      <td>150.7220</td>\n      <td>Flagship store</td>\n      <td>Books</td>\n      <td>Non-Fiction</td>\n      <td>1972-06-06</td>\n      <td>F</td>\n      <td>1.0</td>\n      <td>40.0</td>\n      <td>0.0</td>\n      <td>0</td>\n      <td>0</td>\n      <td>0</td>\n    </tr>\n    <tr>\n      <th>905</th>\n      <td>T87193008634</td>\n      <td>C271051</td>\n      <td>11</td>\n      <td>6</td>\n      <td>124.2</td>\n      <td>52.1640</td>\n      <td>548.9640</td>\n      <td>e-Shop</td>\n      <td>Home and kitchen</td>\n      <td>Bath</td>\n      <td>1976-02-13</td>\n      <td>F</td>\n      <td>3.0</td>\n      <td>36.0</td>\n      <td>0.0</td>\n      <td>0</td>\n      <td>0</td>\n      <td>0</td>\n    </tr>\n    <tr>\n      <th>906</th>\n      <td>T84036395834</td>\n      <td>C270763</td>\n      <td>11</td>\n      <td>5</td>\n      <td>77.9</td>\n      <td>16.3590</td>\n      <td>172.1590</td>\n      <td>TeleShop</td>\n      <td>Books</td>\n      <td>Children</td>\n      <td>1991-02-10</td>\n      <td>F</td>\n      <td>8.0</td>\n      <td>21.0</td>\n      <td>0.0</td>\n      <td>0</td>\n      <td>0</td>\n      <td>0</td>\n    </tr>\n    <tr>\n      <th>907</th>\n      <td>T72150045625</td>\n      <td>C270432</td>\n      <td>11</td>\n      <td>5</td>\n      <td>11.8</td>\n      <td>4.9560</td>\n      <td>52.1560</td>\n      <td>e-Shop</td>\n      <td>Books</td>\n      <td>Children</td>\n      <td>1982-09-17</td>\n      <td>M</td>\n      <td>7.0</td>\n      <td>30.0</td>\n      <td>1.0</td>\n      <td>0</td>\n      <td>0</td>\n      <td>0</td>\n    </tr>\n    <tr>\n      <th>908</th>\n      <td>T97942600110</td>\n      <td>C269559</td>\n      <td>4</td>\n      <td>3</td>\n      <td>67.9</td>\n      <td>35.6475</td>\n      <td>375.1475</td>\n      <td>e-Shop</td>\n      <td>Electronics</td>\n      <td>Mobiles</td>\n      <td>1972-06-24</td>\n      <td>M</td>\n      <td>1.0</td>\n      <td>40.0</td>\n      <td>0.0</td>\n      <td>0</td>\n      <td>0</td>\n      <td>0</td>\n    </tr>\n  </tbody>\n</table>\n<p>909 rows × 18 columns</p>\n</div>"
     },
     "execution_count": 6,
     "metadata": {},
     "output_type": "execute_result"
    }
   ],
   "source": [
    "import os.path\n",
    "import pandas as pd\n",
    "\n",
    "# Read in a CSV, this one is from a public bucket on s3\n",
    "retail_daily = pd.read_csv('https://whylabs-public.s3.us-west-2.amazonaws.com/whylogs_examples/retail-daily-features.csv')\n",
    "retail_daily"
   ],
   "metadata": {
    "collapsed": false,
    "pycharm": {
     "name": "#%%\n"
    }
   }
  },
  {
   "cell_type": "code",
   "execution_count": 7,
   "outputs": [
    {
     "data": {
      "text/plain": "                          counts/n  counts/null  types/integral  \\\ncolumn                                                            \nProduct Subcategory            909            0               0   \nPurchase Canceled              909           72               0   \nGender                         909            0               0   \nTransaction Week               909            0             909   \nTransaction ID                 909            0               0   \nCity Code                      909            1               0   \nTotal Amount                   909            0               0   \nDate of Birth                  909            0               0   \nItem Price                     909            0               0   \nProduct Category               909            0               0   \nTransaction Batch              909            0             909   \nCustomer ID                    909            0               0   \nStore Type                     909            0               0   \nTransaction Day of Week        909            0             909   \nProduct Subcategory Code       909            0             909   \nTotal Tax                      909            0               0   \nProduct Category Code          909            0             909   \nAge at Transaction Date        909            0               0   \n\n                          types/fractional  types/boolean  types/string  \\\ncolumn                                                                    \nProduct Subcategory                      0              0           909   \nPurchase Canceled                      837              0             0   \nGender                                   0              0           909   \nTransaction Week                         0              0             0   \nTransaction ID                           0              0           909   \nCity Code                              908              0             0   \nTotal Amount                           909              0             0   \nDate of Birth                            0              0           909   \nItem Price                             909              0             0   \nProduct Category                         0              0           909   \nTransaction Batch                        0              0             0   \nCustomer ID                              0              0           909   \nStore Type                               0              0           909   \nTransaction Day of Week                  0              0             0   \nProduct Subcategory Code                 0              0             0   \nTotal Tax                              909              0             0   \nProduct Category Code                    0              0             0   \nAge at Transaction Date                909              0             0   \n\n                          types/object  cardinality/est  cardinality/upper_1  \\\ncolumn                                                                         \nProduct Subcategory                  0        18.000001            18.000899   \nPurchase Canceled                    0         2.000000             2.000100   \nGender                               0         2.000000             2.000100   \nTransaction Week                     0         1.000000             1.000050   \nTransaction ID                       0       904.722898           916.565225   \nCity Code                            0        10.000000            10.000500   \nTotal Amount                         0       842.098548           853.121157   \nDate of Birth                        0       801.978113           812.475567   \nItem Price                           0       672.542875           681.346093   \nProduct Category                     0         6.000000             6.000300   \nTransaction Batch                    0         1.000000             1.000050   \nCustomer ID                          0       847.420398           858.512667   \nStore Type                           0         4.000000             4.000200   \nTransaction Day of Week              0         1.000000             1.000050   \nProduct Subcategory Code             0        12.000000            12.000599   \nTotal Tax                            0       800.975225           811.459552   \nProduct Category Code                0         6.000000             6.000300   \nAge at Transaction Date              0        25.000001            25.001250   \n\n                          cardinality/lower_1  ... distribution/n  \\\ncolumn                                         ...                  \nProduct Subcategory                 18.000000  ...            NaN   \nPurchase Canceled                    2.000000  ...          837.0   \nGender                               2.000000  ...            NaN   \nTransaction Week                     1.000000  ...          909.0   \nTransaction ID                     893.168643  ...            NaN   \nCity Code                           10.000000  ...          908.0   \nTotal Amount                       831.344071  ...          909.0   \nDate of Birth                      791.736016  ...            NaN   \nItem Price                         663.953801  ...          909.0   \nProduct Category                     6.000000  ...            NaN   \nTransaction Batch                    1.000000  ...          909.0   \nCustomer ID                        836.597955  ...            NaN   \nStore Type                           4.000000  ...            NaN   \nTransaction Day of Week              1.000000  ...          909.0   \nProduct Subcategory Code            12.000000  ...          909.0   \nTotal Tax                          790.745935  ...          909.0   \nProduct Category Code                6.000000  ...          909.0   \nAge at Transaction Date             25.000000  ...          909.0   \n\n                         distribution/max  distribution/min  \\\ncolumn                                                        \nProduct Subcategory                   NaN               NaN   \nPurchase Canceled                  1.0000             0.000   \nGender                                NaN               NaN   \nTransaction Week                   0.0000             0.000   \nTransaction ID                        NaN               NaN   \nCity Code                         10.0000             1.000   \nTotal Amount                     823.7775          -767.975   \nDate of Birth                         NaN               NaN   \nItem Price                       149.8000             7.100   \nProduct Category                      NaN               NaN   \nTransaction Batch                  0.0000             0.000   \nCustomer ID                           NaN               NaN   \nStore Type                            NaN               NaN   \nTransaction Day of Week            0.0000             0.000   \nProduct Subcategory Code          12.0000             1.000   \nTotal Tax                         78.2775             0.861   \nProduct Category Code              6.0000             1.000   \nAge at Transaction Date           43.0000            19.000   \n\n                          distribution/q_10  distribution/q_25  \\\ncolumn                                                           \nProduct Subcategory                     NaN                NaN   \nPurchase Canceled                    0.0000              0.000   \nGender                                  NaN                NaN   \nTransaction Week                     0.0000              0.000   \nTransaction ID                          NaN                NaN   \nCity Code                            1.0000              3.000   \nTotal Amount                        25.3045             82.433   \nDate of Birth                           NaN                NaN   \nItem Price                          19.0000             43.400   \nProduct Category                        NaN                NaN   \nTransaction Batch                    0.0000              0.000   \nCustomer ID                             NaN                NaN   \nStore Type                              NaN                NaN   \nTransaction Day of Week              0.0000              0.000   \nProduct Subcategory Code             1.0000              3.000   \nTotal Tax                            4.8825             10.017   \nProduct Category Code                1.0000              2.000   \nAge at Transaction Date             21.0000             25.000   \n\n                          distribution/median  distribution/q_75  \\\ncolumn                                                             \nProduct Subcategory                       NaN                NaN   \nPurchase Canceled                      0.0000             0.0000   \nGender                                    NaN                NaN   \nTransaction Week                       0.0000             0.0000   \nTransaction ID                            NaN                NaN   \nCity Code                              5.0000             8.0000   \nTotal Amount                         188.4025           358.6830   \nDate of Birth                             NaN                NaN   \nItem Price                            80.4000           116.2000   \nProduct Category                          NaN                NaN   \nTransaction Batch                      0.0000             0.0000   \nCustomer ID                               NaN                NaN   \nStore Type                                NaN                NaN   \nTransaction Day of Week                0.0000             0.0000   \nProduct Subcategory Code               5.0000            10.0000   \nTotal Tax                             20.5170            36.1725   \nProduct Category Code                  4.0000             5.0000   \nAge at Transaction Date               31.0000            37.0000   \n\n                          distribution/q_90  ints/max  ints/min  \ncolumn                                                           \nProduct Subcategory                     NaN       NaN       NaN  \nPurchase Canceled                    0.0000       NaN       NaN  \nGender                                  NaN       NaN       NaN  \nTransaction Week                     0.0000       0.0       0.0  \nTransaction ID                          NaN       NaN       NaN  \nCity Code                           10.0000       NaN       NaN  \nTotal Amount                       555.2625       NaN       NaN  \nDate of Birth                           NaN       NaN       NaN  \nItem Price                         137.6000       NaN       NaN  \nProduct Category                        NaN       NaN       NaN  \nTransaction Batch                    0.0000       0.0       0.0  \nCustomer ID                             NaN       NaN       NaN  \nStore Type                              NaN       NaN       NaN  \nTransaction Day of Week              0.0000       0.0       0.0  \nProduct Subcategory Code            11.0000      12.0       1.0  \nTotal Tax                           54.2640       NaN       NaN  \nProduct Category Code                6.0000       6.0       1.0  \nAge at Transaction Date             40.0000       NaN       NaN  \n\n[18 rows x 24 columns]",
      "text/html": "<div>\n<style scoped>\n    .dataframe tbody tr th:only-of-type {\n        vertical-align: middle;\n    }\n\n    .dataframe tbody tr th {\n        vertical-align: top;\n    }\n\n    .dataframe thead th {\n        text-align: right;\n    }\n</style>\n<table border=\"1\" class=\"dataframe\">\n  <thead>\n    <tr style=\"text-align: right;\">\n      <th></th>\n      <th>counts/n</th>\n      <th>counts/null</th>\n      <th>types/integral</th>\n      <th>types/fractional</th>\n      <th>types/boolean</th>\n      <th>types/string</th>\n      <th>types/object</th>\n      <th>cardinality/est</th>\n      <th>cardinality/upper_1</th>\n      <th>cardinality/lower_1</th>\n      <th>...</th>\n      <th>distribution/n</th>\n      <th>distribution/max</th>\n      <th>distribution/min</th>\n      <th>distribution/q_10</th>\n      <th>distribution/q_25</th>\n      <th>distribution/median</th>\n      <th>distribution/q_75</th>\n      <th>distribution/q_90</th>\n      <th>ints/max</th>\n      <th>ints/min</th>\n    </tr>\n    <tr>\n      <th>column</th>\n      <th></th>\n      <th></th>\n      <th></th>\n      <th></th>\n      <th></th>\n      <th></th>\n      <th></th>\n      <th></th>\n      <th></th>\n      <th></th>\n      <th></th>\n      <th></th>\n      <th></th>\n      <th></th>\n      <th></th>\n      <th></th>\n      <th></th>\n      <th></th>\n      <th></th>\n      <th></th>\n      <th></th>\n    </tr>\n  </thead>\n  <tbody>\n    <tr>\n      <th>Product Subcategory</th>\n      <td>909</td>\n      <td>0</td>\n      <td>0</td>\n      <td>0</td>\n      <td>0</td>\n      <td>909</td>\n      <td>0</td>\n      <td>18.000001</td>\n      <td>18.000899</td>\n      <td>18.000000</td>\n      <td>...</td>\n      <td>NaN</td>\n      <td>NaN</td>\n      <td>NaN</td>\n      <td>NaN</td>\n      <td>NaN</td>\n      <td>NaN</td>\n      <td>NaN</td>\n      <td>NaN</td>\n      <td>NaN</td>\n      <td>NaN</td>\n    </tr>\n    <tr>\n      <th>Purchase Canceled</th>\n      <td>909</td>\n      <td>72</td>\n      <td>0</td>\n      <td>837</td>\n      <td>0</td>\n      <td>0</td>\n      <td>0</td>\n      <td>2.000000</td>\n      <td>2.000100</td>\n      <td>2.000000</td>\n      <td>...</td>\n      <td>837.0</td>\n      <td>1.0000</td>\n      <td>0.000</td>\n      <td>0.0000</td>\n      <td>0.000</td>\n      <td>0.0000</td>\n      <td>0.0000</td>\n      <td>0.0000</td>\n      <td>NaN</td>\n      <td>NaN</td>\n    </tr>\n    <tr>\n      <th>Gender</th>\n      <td>909</td>\n      <td>0</td>\n      <td>0</td>\n      <td>0</td>\n      <td>0</td>\n      <td>909</td>\n      <td>0</td>\n      <td>2.000000</td>\n      <td>2.000100</td>\n      <td>2.000000</td>\n      <td>...</td>\n      <td>NaN</td>\n      <td>NaN</td>\n      <td>NaN</td>\n      <td>NaN</td>\n      <td>NaN</td>\n      <td>NaN</td>\n      <td>NaN</td>\n      <td>NaN</td>\n      <td>NaN</td>\n      <td>NaN</td>\n    </tr>\n    <tr>\n      <th>Transaction Week</th>\n      <td>909</td>\n      <td>0</td>\n      <td>909</td>\n      <td>0</td>\n      <td>0</td>\n      <td>0</td>\n      <td>0</td>\n      <td>1.000000</td>\n      <td>1.000050</td>\n      <td>1.000000</td>\n      <td>...</td>\n      <td>909.0</td>\n      <td>0.0000</td>\n      <td>0.000</td>\n      <td>0.0000</td>\n      <td>0.000</td>\n      <td>0.0000</td>\n      <td>0.0000</td>\n      <td>0.0000</td>\n      <td>0.0</td>\n      <td>0.0</td>\n    </tr>\n    <tr>\n      <th>Transaction ID</th>\n      <td>909</td>\n      <td>0</td>\n      <td>0</td>\n      <td>0</td>\n      <td>0</td>\n      <td>909</td>\n      <td>0</td>\n      <td>904.722898</td>\n      <td>916.565225</td>\n      <td>893.168643</td>\n      <td>...</td>\n      <td>NaN</td>\n      <td>NaN</td>\n      <td>NaN</td>\n      <td>NaN</td>\n      <td>NaN</td>\n      <td>NaN</td>\n      <td>NaN</td>\n      <td>NaN</td>\n      <td>NaN</td>\n      <td>NaN</td>\n    </tr>\n    <tr>\n      <th>City Code</th>\n      <td>909</td>\n      <td>1</td>\n      <td>0</td>\n      <td>908</td>\n      <td>0</td>\n      <td>0</td>\n      <td>0</td>\n      <td>10.000000</td>\n      <td>10.000500</td>\n      <td>10.000000</td>\n      <td>...</td>\n      <td>908.0</td>\n      <td>10.0000</td>\n      <td>1.000</td>\n      <td>1.0000</td>\n      <td>3.000</td>\n      <td>5.0000</td>\n      <td>8.0000</td>\n      <td>10.0000</td>\n      <td>NaN</td>\n      <td>NaN</td>\n    </tr>\n    <tr>\n      <th>Total Amount</th>\n      <td>909</td>\n      <td>0</td>\n      <td>0</td>\n      <td>909</td>\n      <td>0</td>\n      <td>0</td>\n      <td>0</td>\n      <td>842.098548</td>\n      <td>853.121157</td>\n      <td>831.344071</td>\n      <td>...</td>\n      <td>909.0</td>\n      <td>823.7775</td>\n      <td>-767.975</td>\n      <td>25.3045</td>\n      <td>82.433</td>\n      <td>188.4025</td>\n      <td>358.6830</td>\n      <td>555.2625</td>\n      <td>NaN</td>\n      <td>NaN</td>\n    </tr>\n    <tr>\n      <th>Date of Birth</th>\n      <td>909</td>\n      <td>0</td>\n      <td>0</td>\n      <td>0</td>\n      <td>0</td>\n      <td>909</td>\n      <td>0</td>\n      <td>801.978113</td>\n      <td>812.475567</td>\n      <td>791.736016</td>\n      <td>...</td>\n      <td>NaN</td>\n      <td>NaN</td>\n      <td>NaN</td>\n      <td>NaN</td>\n      <td>NaN</td>\n      <td>NaN</td>\n      <td>NaN</td>\n      <td>NaN</td>\n      <td>NaN</td>\n      <td>NaN</td>\n    </tr>\n    <tr>\n      <th>Item Price</th>\n      <td>909</td>\n      <td>0</td>\n      <td>0</td>\n      <td>909</td>\n      <td>0</td>\n      <td>0</td>\n      <td>0</td>\n      <td>672.542875</td>\n      <td>681.346093</td>\n      <td>663.953801</td>\n      <td>...</td>\n      <td>909.0</td>\n      <td>149.8000</td>\n      <td>7.100</td>\n      <td>19.0000</td>\n      <td>43.400</td>\n      <td>80.4000</td>\n      <td>116.2000</td>\n      <td>137.6000</td>\n      <td>NaN</td>\n      <td>NaN</td>\n    </tr>\n    <tr>\n      <th>Product Category</th>\n      <td>909</td>\n      <td>0</td>\n      <td>0</td>\n      <td>0</td>\n      <td>0</td>\n      <td>909</td>\n      <td>0</td>\n      <td>6.000000</td>\n      <td>6.000300</td>\n      <td>6.000000</td>\n      <td>...</td>\n      <td>NaN</td>\n      <td>NaN</td>\n      <td>NaN</td>\n      <td>NaN</td>\n      <td>NaN</td>\n      <td>NaN</td>\n      <td>NaN</td>\n      <td>NaN</td>\n      <td>NaN</td>\n      <td>NaN</td>\n    </tr>\n    <tr>\n      <th>Transaction Batch</th>\n      <td>909</td>\n      <td>0</td>\n      <td>909</td>\n      <td>0</td>\n      <td>0</td>\n      <td>0</td>\n      <td>0</td>\n      <td>1.000000</td>\n      <td>1.000050</td>\n      <td>1.000000</td>\n      <td>...</td>\n      <td>909.0</td>\n      <td>0.0000</td>\n      <td>0.000</td>\n      <td>0.0000</td>\n      <td>0.000</td>\n      <td>0.0000</td>\n      <td>0.0000</td>\n      <td>0.0000</td>\n      <td>0.0</td>\n      <td>0.0</td>\n    </tr>\n    <tr>\n      <th>Customer ID</th>\n      <td>909</td>\n      <td>0</td>\n      <td>0</td>\n      <td>0</td>\n      <td>0</td>\n      <td>909</td>\n      <td>0</td>\n      <td>847.420398</td>\n      <td>858.512667</td>\n      <td>836.597955</td>\n      <td>...</td>\n      <td>NaN</td>\n      <td>NaN</td>\n      <td>NaN</td>\n      <td>NaN</td>\n      <td>NaN</td>\n      <td>NaN</td>\n      <td>NaN</td>\n      <td>NaN</td>\n      <td>NaN</td>\n      <td>NaN</td>\n    </tr>\n    <tr>\n      <th>Store Type</th>\n      <td>909</td>\n      <td>0</td>\n      <td>0</td>\n      <td>0</td>\n      <td>0</td>\n      <td>909</td>\n      <td>0</td>\n      <td>4.000000</td>\n      <td>4.000200</td>\n      <td>4.000000</td>\n      <td>...</td>\n      <td>NaN</td>\n      <td>NaN</td>\n      <td>NaN</td>\n      <td>NaN</td>\n      <td>NaN</td>\n      <td>NaN</td>\n      <td>NaN</td>\n      <td>NaN</td>\n      <td>NaN</td>\n      <td>NaN</td>\n    </tr>\n    <tr>\n      <th>Transaction Day of Week</th>\n      <td>909</td>\n      <td>0</td>\n      <td>909</td>\n      <td>0</td>\n      <td>0</td>\n      <td>0</td>\n      <td>0</td>\n      <td>1.000000</td>\n      <td>1.000050</td>\n      <td>1.000000</td>\n      <td>...</td>\n      <td>909.0</td>\n      <td>0.0000</td>\n      <td>0.000</td>\n      <td>0.0000</td>\n      <td>0.000</td>\n      <td>0.0000</td>\n      <td>0.0000</td>\n      <td>0.0000</td>\n      <td>0.0</td>\n      <td>0.0</td>\n    </tr>\n    <tr>\n      <th>Product Subcategory Code</th>\n      <td>909</td>\n      <td>0</td>\n      <td>909</td>\n      <td>0</td>\n      <td>0</td>\n      <td>0</td>\n      <td>0</td>\n      <td>12.000000</td>\n      <td>12.000599</td>\n      <td>12.000000</td>\n      <td>...</td>\n      <td>909.0</td>\n      <td>12.0000</td>\n      <td>1.000</td>\n      <td>1.0000</td>\n      <td>3.000</td>\n      <td>5.0000</td>\n      <td>10.0000</td>\n      <td>11.0000</td>\n      <td>12.0</td>\n      <td>1.0</td>\n    </tr>\n    <tr>\n      <th>Total Tax</th>\n      <td>909</td>\n      <td>0</td>\n      <td>0</td>\n      <td>909</td>\n      <td>0</td>\n      <td>0</td>\n      <td>0</td>\n      <td>800.975225</td>\n      <td>811.459552</td>\n      <td>790.745935</td>\n      <td>...</td>\n      <td>909.0</td>\n      <td>78.2775</td>\n      <td>0.861</td>\n      <td>4.8825</td>\n      <td>10.017</td>\n      <td>20.5170</td>\n      <td>36.1725</td>\n      <td>54.2640</td>\n      <td>NaN</td>\n      <td>NaN</td>\n    </tr>\n    <tr>\n      <th>Product Category Code</th>\n      <td>909</td>\n      <td>0</td>\n      <td>909</td>\n      <td>0</td>\n      <td>0</td>\n      <td>0</td>\n      <td>0</td>\n      <td>6.000000</td>\n      <td>6.000300</td>\n      <td>6.000000</td>\n      <td>...</td>\n      <td>909.0</td>\n      <td>6.0000</td>\n      <td>1.000</td>\n      <td>1.0000</td>\n      <td>2.000</td>\n      <td>4.0000</td>\n      <td>5.0000</td>\n      <td>6.0000</td>\n      <td>6.0</td>\n      <td>1.0</td>\n    </tr>\n    <tr>\n      <th>Age at Transaction Date</th>\n      <td>909</td>\n      <td>0</td>\n      <td>0</td>\n      <td>909</td>\n      <td>0</td>\n      <td>0</td>\n      <td>0</td>\n      <td>25.000001</td>\n      <td>25.001250</td>\n      <td>25.000000</td>\n      <td>...</td>\n      <td>909.0</td>\n      <td>43.0000</td>\n      <td>19.000</td>\n      <td>21.0000</td>\n      <td>25.000</td>\n      <td>31.0000</td>\n      <td>37.0000</td>\n      <td>40.0000</td>\n      <td>NaN</td>\n      <td>NaN</td>\n    </tr>\n  </tbody>\n</table>\n<p>18 rows × 24 columns</p>\n</div>"
     },
     "execution_count": 7,
     "metadata": {},
     "output_type": "execute_result"
    }
   ],
   "source": [
    "import whylogs as why\n",
    "\n",
    "# Log the data frame. This equivalent to why.log(retail_daily) and why.log(data=retail_daily)\n",
    "results = why.log(pandas=retail_daily)\n",
    "\n",
    "# Get the Results\n",
    "profile = results.profile()\n",
    "\n",
    "# Head down to Display a Log for explination\n",
    "profile.view().to_pandas()"
   ],
   "metadata": {
    "collapsed": false,
    "pycharm": {
     "name": "#%%\n"
    }
   }
  },
  {
   "cell_type": "markdown",
   "source": [
    "## Log an Image <a class=\"anchor\" id=\"log_image\"></a>\n",
    "Coming soon!"
   ],
   "metadata": {
    "collapsed": false,
    "pycharm": {
     "name": "#%% md\n"
    }
   }
  },
  {
   "cell_type": "markdown",
   "source": [
    "## Log Python Dictionary <a class=\"anchor\" id=\"log_dict\">\n",
    "\n",
    "Sometimes a quick log is all you need though and don't want to set up a DataFrame. We can log a dictionary has one row of table. This works best with scalar data, anything else will only have object trackers applied.\n",
    "\n",
    "Suppose we want to log art prints that are being shown to see what sells best.\n"
   ],
   "metadata": {
    "collapsed": false,
    "pycharm": {
     "name": "#%% md\n"
    }
   }
  },
  {
   "cell_type": "code",
   "source": [
    "import whylogs as why\n",
    "\n",
    "example_data = {\"height\": 100, \"length\": 1000, \"status\": \"sold\", \"price\": 58.00, \"medium\": [\"watercolor\", \"digital\"] }\n",
    "\n",
    "# Log the dictionary this is equivalent to why.log(example_data)\n",
    "results = why.log(row=example_data)\n",
    "\n",
    "# Retrieve the profile\n",
    "profile = results.profile()\n",
    "\n",
    "# Head to Display Logs to explain\n",
    "profile.view().to_pandas()"
   ],
   "metadata": {
    "collapsed": false,
    "pycharm": {
     "name": "#%%\n"
    }
   },
   "execution_count": 8,
   "outputs": [
    {
     "name": "stderr",
     "output_type": "stream",
     "text": [
      "Failed to extract columnar data from type: <class 'int'>\n",
      "Failed to extract columnar data from type: <class 'int'>\n",
      "Materializing an Iterable or Iterator into a list for processing. This could cause memory issue\n",
      "Failed to extract columnar data from type: <class 'float'>\n"
     ]
    },
    {
     "data": {
      "text/plain": "        counts/n  counts/null  types/integral  types/fractional  \\\ncolumn                                                            \nlength         0            0               0                 0   \nheight         0            0               0                 0   \nprice          0            0               0                 0   \nstatus         4            0               0                 0   \nmedium         2            0               0                 0   \n\n        types/boolean  types/string  types/object  distribution/mean  \\\ncolumn                                                                 \nlength              0             0             0                0.0   \nheight              0             0             0                0.0   \nprice               0             0             0                0.0   \nstatus              0             4             0                NaN   \nmedium              0             2             0                NaN   \n\n        distribution/stddev  distribution/n  ...  distribution/median  \\\ncolumn                                       ...                        \nlength                  0.0             0.0  ...                  NaN   \nheight                  0.0             0.0  ...                  NaN   \nprice                   0.0             0.0  ...                  NaN   \nstatus                  NaN             NaN  ...                  NaN   \nmedium                  NaN             NaN  ...                  NaN   \n\n        distribution/q_75  distribution/q_90      ints/max      ints/min  \\\ncolumn                                                                     \nlength                NaN                NaN -9.223372e+18  9.223372e+18   \nheight                NaN                NaN -9.223372e+18  9.223372e+18   \nprice                 NaN                NaN           NaN           NaN   \nstatus                NaN                NaN           NaN           NaN   \nmedium                NaN                NaN           NaN           NaN   \n\n        cardinality/est  cardinality/upper_1  cardinality/lower_1  \\\ncolumn                                                              \nlength              0.0               0.0000                  0.0   \nheight              0.0               0.0000                  0.0   \nprice               0.0               0.0000                  0.0   \nstatus              4.0               4.0002                  4.0   \nmedium              NaN                  NaN                  NaN   \n\n                          frequent_items/frequent_strings                type  \ncolumn                                                                         \nlength                                                 []  SummaryType.COLUMN  \nheight                                                 []  SummaryType.COLUMN  \nprice                                                 NaN  SummaryType.COLUMN  \nstatus  [FrequentItem(value='l', est=1, upper=1, lower...  SummaryType.COLUMN  \nmedium                                                NaN  SummaryType.COLUMN  \n\n[5 rows x 24 columns]",
      "text/html": "<div>\n<style scoped>\n    .dataframe tbody tr th:only-of-type {\n        vertical-align: middle;\n    }\n\n    .dataframe tbody tr th {\n        vertical-align: top;\n    }\n\n    .dataframe thead th {\n        text-align: right;\n    }\n</style>\n<table border=\"1\" class=\"dataframe\">\n  <thead>\n    <tr style=\"text-align: right;\">\n      <th></th>\n      <th>counts/n</th>\n      <th>counts/null</th>\n      <th>types/integral</th>\n      <th>types/fractional</th>\n      <th>types/boolean</th>\n      <th>types/string</th>\n      <th>types/object</th>\n      <th>distribution/mean</th>\n      <th>distribution/stddev</th>\n      <th>distribution/n</th>\n      <th>...</th>\n      <th>distribution/median</th>\n      <th>distribution/q_75</th>\n      <th>distribution/q_90</th>\n      <th>ints/max</th>\n      <th>ints/min</th>\n      <th>cardinality/est</th>\n      <th>cardinality/upper_1</th>\n      <th>cardinality/lower_1</th>\n      <th>frequent_items/frequent_strings</th>\n      <th>type</th>\n    </tr>\n    <tr>\n      <th>column</th>\n      <th></th>\n      <th></th>\n      <th></th>\n      <th></th>\n      <th></th>\n      <th></th>\n      <th></th>\n      <th></th>\n      <th></th>\n      <th></th>\n      <th></th>\n      <th></th>\n      <th></th>\n      <th></th>\n      <th></th>\n      <th></th>\n      <th></th>\n      <th></th>\n      <th></th>\n      <th></th>\n      <th></th>\n    </tr>\n  </thead>\n  <tbody>\n    <tr>\n      <th>length</th>\n      <td>0</td>\n      <td>0</td>\n      <td>0</td>\n      <td>0</td>\n      <td>0</td>\n      <td>0</td>\n      <td>0</td>\n      <td>0.0</td>\n      <td>0.0</td>\n      <td>0.0</td>\n      <td>...</td>\n      <td>NaN</td>\n      <td>NaN</td>\n      <td>NaN</td>\n      <td>-9.223372e+18</td>\n      <td>9.223372e+18</td>\n      <td>0.0</td>\n      <td>0.0000</td>\n      <td>0.0</td>\n      <td>[]</td>\n      <td>SummaryType.COLUMN</td>\n    </tr>\n    <tr>\n      <th>height</th>\n      <td>0</td>\n      <td>0</td>\n      <td>0</td>\n      <td>0</td>\n      <td>0</td>\n      <td>0</td>\n      <td>0</td>\n      <td>0.0</td>\n      <td>0.0</td>\n      <td>0.0</td>\n      <td>...</td>\n      <td>NaN</td>\n      <td>NaN</td>\n      <td>NaN</td>\n      <td>-9.223372e+18</td>\n      <td>9.223372e+18</td>\n      <td>0.0</td>\n      <td>0.0000</td>\n      <td>0.0</td>\n      <td>[]</td>\n      <td>SummaryType.COLUMN</td>\n    </tr>\n    <tr>\n      <th>price</th>\n      <td>0</td>\n      <td>0</td>\n      <td>0</td>\n      <td>0</td>\n      <td>0</td>\n      <td>0</td>\n      <td>0</td>\n      <td>0.0</td>\n      <td>0.0</td>\n      <td>0.0</td>\n      <td>...</td>\n      <td>NaN</td>\n      <td>NaN</td>\n      <td>NaN</td>\n      <td>NaN</td>\n      <td>NaN</td>\n      <td>0.0</td>\n      <td>0.0000</td>\n      <td>0.0</td>\n      <td>NaN</td>\n      <td>SummaryType.COLUMN</td>\n    </tr>\n    <tr>\n      <th>status</th>\n      <td>4</td>\n      <td>0</td>\n      <td>0</td>\n      <td>0</td>\n      <td>0</td>\n      <td>4</td>\n      <td>0</td>\n      <td>NaN</td>\n      <td>NaN</td>\n      <td>NaN</td>\n      <td>...</td>\n      <td>NaN</td>\n      <td>NaN</td>\n      <td>NaN</td>\n      <td>NaN</td>\n      <td>NaN</td>\n      <td>4.0</td>\n      <td>4.0002</td>\n      <td>4.0</td>\n      <td>[FrequentItem(value='l', est=1, upper=1, lower...</td>\n      <td>SummaryType.COLUMN</td>\n    </tr>\n    <tr>\n      <th>medium</th>\n      <td>2</td>\n      <td>0</td>\n      <td>0</td>\n      <td>0</td>\n      <td>0</td>\n      <td>2</td>\n      <td>0</td>\n      <td>NaN</td>\n      <td>NaN</td>\n      <td>NaN</td>\n      <td>...</td>\n      <td>NaN</td>\n      <td>NaN</td>\n      <td>NaN</td>\n      <td>NaN</td>\n      <td>NaN</td>\n      <td>NaN</td>\n      <td>NaN</td>\n      <td>NaN</td>\n      <td>NaN</td>\n      <td>SummaryType.COLUMN</td>\n    </tr>\n  </tbody>\n</table>\n<p>5 rows × 24 columns</p>\n</div>"
     },
     "execution_count": 8,
     "metadata": {},
     "output_type": "execute_result"
    }
   ]
  },
  {
   "cell_type": "markdown",
   "source": [
    "## Display the Logs <a class=\"anchor\" id=\"display\"></a>\n",
    "There are many ways to display the data! Examples in \"Integrations\", \"WhyLabs\", and \"Use Cases\" showcase how to use a variety of tools to see your data. Also the Notebook_Profile_Visualizer helps you display the profile with a variety of charts.\n",
    "\n",
    "Your log will from above returns results including the profile. It's this profile that we can view and export as a Pandas DataFrame."
   ],
   "metadata": {
    "collapsed": false
   }
  },
  {
   "cell_type": "code",
   "execution_count": 9,
   "outputs": [
    {
     "data": {
      "text/plain": "        counts/n  counts/null  types/integral  types/fractional  \\\ncolumn                                                            \nlength         0            0               0                 0   \nheight         0            0               0                 0   \nprice          0            0               0                 0   \nstatus         4            0               0                 0   \nmedium         2            0               0                 0   \n\n        types/boolean  types/string  types/object  distribution/mean  \\\ncolumn                                                                 \nlength              0             0             0                0.0   \nheight              0             0             0                0.0   \nprice               0             0             0                0.0   \nstatus              0             4             0                NaN   \nmedium              0             2             0                NaN   \n\n        distribution/stddev  distribution/n  ...  distribution/median  \\\ncolumn                                       ...                        \nlength                  0.0             0.0  ...                  NaN   \nheight                  0.0             0.0  ...                  NaN   \nprice                   0.0             0.0  ...                  NaN   \nstatus                  NaN             NaN  ...                  NaN   \nmedium                  NaN             NaN  ...                  NaN   \n\n        distribution/q_75  distribution/q_90      ints/max      ints/min  \\\ncolumn                                                                     \nlength                NaN                NaN -9.223372e+18  9.223372e+18   \nheight                NaN                NaN -9.223372e+18  9.223372e+18   \nprice                 NaN                NaN           NaN           NaN   \nstatus                NaN                NaN           NaN           NaN   \nmedium                NaN                NaN           NaN           NaN   \n\n        cardinality/est  cardinality/upper_1  cardinality/lower_1  \\\ncolumn                                                              \nlength              0.0               0.0000                  0.0   \nheight              0.0               0.0000                  0.0   \nprice               0.0               0.0000                  0.0   \nstatus              4.0               4.0002                  4.0   \nmedium              NaN                  NaN                  NaN   \n\n                          frequent_items/frequent_strings                type  \ncolumn                                                                         \nlength                                                 []  SummaryType.COLUMN  \nheight                                                 []  SummaryType.COLUMN  \nprice                                                 NaN  SummaryType.COLUMN  \nstatus  [FrequentItem(value='l', est=1, upper=1, lower...  SummaryType.COLUMN  \nmedium                                                NaN  SummaryType.COLUMN  \n\n[5 rows x 24 columns]",
      "text/html": "<div>\n<style scoped>\n    .dataframe tbody tr th:only-of-type {\n        vertical-align: middle;\n    }\n\n    .dataframe tbody tr th {\n        vertical-align: top;\n    }\n\n    .dataframe thead th {\n        text-align: right;\n    }\n</style>\n<table border=\"1\" class=\"dataframe\">\n  <thead>\n    <tr style=\"text-align: right;\">\n      <th></th>\n      <th>counts/n</th>\n      <th>counts/null</th>\n      <th>types/integral</th>\n      <th>types/fractional</th>\n      <th>types/boolean</th>\n      <th>types/string</th>\n      <th>types/object</th>\n      <th>distribution/mean</th>\n      <th>distribution/stddev</th>\n      <th>distribution/n</th>\n      <th>...</th>\n      <th>distribution/median</th>\n      <th>distribution/q_75</th>\n      <th>distribution/q_90</th>\n      <th>ints/max</th>\n      <th>ints/min</th>\n      <th>cardinality/est</th>\n      <th>cardinality/upper_1</th>\n      <th>cardinality/lower_1</th>\n      <th>frequent_items/frequent_strings</th>\n      <th>type</th>\n    </tr>\n    <tr>\n      <th>column</th>\n      <th></th>\n      <th></th>\n      <th></th>\n      <th></th>\n      <th></th>\n      <th></th>\n      <th></th>\n      <th></th>\n      <th></th>\n      <th></th>\n      <th></th>\n      <th></th>\n      <th></th>\n      <th></th>\n      <th></th>\n      <th></th>\n      <th></th>\n      <th></th>\n      <th></th>\n      <th></th>\n      <th></th>\n    </tr>\n  </thead>\n  <tbody>\n    <tr>\n      <th>length</th>\n      <td>0</td>\n      <td>0</td>\n      <td>0</td>\n      <td>0</td>\n      <td>0</td>\n      <td>0</td>\n      <td>0</td>\n      <td>0.0</td>\n      <td>0.0</td>\n      <td>0.0</td>\n      <td>...</td>\n      <td>NaN</td>\n      <td>NaN</td>\n      <td>NaN</td>\n      <td>-9.223372e+18</td>\n      <td>9.223372e+18</td>\n      <td>0.0</td>\n      <td>0.0000</td>\n      <td>0.0</td>\n      <td>[]</td>\n      <td>SummaryType.COLUMN</td>\n    </tr>\n    <tr>\n      <th>height</th>\n      <td>0</td>\n      <td>0</td>\n      <td>0</td>\n      <td>0</td>\n      <td>0</td>\n      <td>0</td>\n      <td>0</td>\n      <td>0.0</td>\n      <td>0.0</td>\n      <td>0.0</td>\n      <td>...</td>\n      <td>NaN</td>\n      <td>NaN</td>\n      <td>NaN</td>\n      <td>-9.223372e+18</td>\n      <td>9.223372e+18</td>\n      <td>0.0</td>\n      <td>0.0000</td>\n      <td>0.0</td>\n      <td>[]</td>\n      <td>SummaryType.COLUMN</td>\n    </tr>\n    <tr>\n      <th>price</th>\n      <td>0</td>\n      <td>0</td>\n      <td>0</td>\n      <td>0</td>\n      <td>0</td>\n      <td>0</td>\n      <td>0</td>\n      <td>0.0</td>\n      <td>0.0</td>\n      <td>0.0</td>\n      <td>...</td>\n      <td>NaN</td>\n      <td>NaN</td>\n      <td>NaN</td>\n      <td>NaN</td>\n      <td>NaN</td>\n      <td>0.0</td>\n      <td>0.0000</td>\n      <td>0.0</td>\n      <td>NaN</td>\n      <td>SummaryType.COLUMN</td>\n    </tr>\n    <tr>\n      <th>status</th>\n      <td>4</td>\n      <td>0</td>\n      <td>0</td>\n      <td>0</td>\n      <td>0</td>\n      <td>4</td>\n      <td>0</td>\n      <td>NaN</td>\n      <td>NaN</td>\n      <td>NaN</td>\n      <td>...</td>\n      <td>NaN</td>\n      <td>NaN</td>\n      <td>NaN</td>\n      <td>NaN</td>\n      <td>NaN</td>\n      <td>4.0</td>\n      <td>4.0002</td>\n      <td>4.0</td>\n      <td>[FrequentItem(value='l', est=1, upper=1, lower...</td>\n      <td>SummaryType.COLUMN</td>\n    </tr>\n    <tr>\n      <th>medium</th>\n      <td>2</td>\n      <td>0</td>\n      <td>0</td>\n      <td>0</td>\n      <td>0</td>\n      <td>2</td>\n      <td>0</td>\n      <td>NaN</td>\n      <td>NaN</td>\n      <td>NaN</td>\n      <td>...</td>\n      <td>NaN</td>\n      <td>NaN</td>\n      <td>NaN</td>\n      <td>NaN</td>\n      <td>NaN</td>\n      <td>NaN</td>\n      <td>NaN</td>\n      <td>NaN</td>\n      <td>NaN</td>\n      <td>SummaryType.COLUMN</td>\n    </tr>\n  </tbody>\n</table>\n<p>5 rows × 24 columns</p>\n</div>"
     },
     "execution_count": 9,
     "metadata": {},
     "output_type": "execute_result"
    }
   ],
   "source": [
    "# Note run any of the examples above to get the results for this block\n",
    "\n",
    "#grab profile from result set\n",
    "profile = results.profile()\n",
    "\n",
    "#grab a 'view' of the profile for inspection\n",
    "prof_view = profile.view()\n",
    "\n",
    "#inspect profile as a Pandas DataFrame\n",
    "prof_df = prof_view.to_pandas()\n",
    "prof_df"
   ],
   "metadata": {
    "collapsed": false,
    "pycharm": {
     "name": "#%%\n"
    }
   }
  }
 ],
 "metadata": {
  "kernelspec": {
   "name": "whylogs-v1",
   "language": "python",
   "display_name": "whylogs-v1"
  },
  "language_info": {
   "codemirror_mode": {
    "name": "ipython",
    "version": 2
   },
   "file_extension": ".py",
   "mimetype": "text/x-python",
   "name": "python",
   "nbconvert_exporter": "python",
   "pygments_lexer": "ipython2",
   "version": "2.7.6"
  }
 },
 "nbformat": 4,
 "nbformat_minor": 0
}
