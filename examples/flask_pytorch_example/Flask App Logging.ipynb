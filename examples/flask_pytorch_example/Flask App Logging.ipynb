{
 "cells": [
  {
   "cell_type": "markdown",
   "id": "f71f8605",
   "metadata": {},
   "source": [
    "# Data Monitoring with Flask and whylogs"
   ]
  },
  {
   "cell_type": "markdown",
   "id": "1219a03d",
   "metadata": {},
   "source": [
    "\n",
    "In this example we will deploy a flask app with an ml model and use whylogs to monitor the data flowing throught the application. In this case we are using a pytorch image classification model based on densenet.\n",
    "\n",
    "\n",
    "The api will receive a json request with the path of the image file, this path can be locally acesseed by the app or could be an for example a `s3` bucket or another storage supported by `smart_open`. \n",
    "The response will be also a `json` with the classification of the image based on ImageNet pretrained model, hence it will be one of the ImageNet classes. \n"
   ]
  },
  {
   "cell_type": "markdown",
   "id": "a7dca82a",
   "metadata": {},
   "source": [
    "For this example you will need to install:\n"
   ]
  },
  {
   "cell_type": "code",
   "execution_count": null,
   "id": "9084677a",
   "metadata": {},
   "outputs": [],
   "source": [
    "!pip install Flask==2.0.1 torchvision==0.10.0 whylogs==0.6.1 requests==2.26.0"
   ]
  },
  {
   "cell_type": "markdown",
   "id": "84538afc",
   "metadata": {},
   "source": [
    "We will begin by loading the model and the `whylogs` logger in memory as the application is launched\n",
    "\n",
    "```python\n",
    "from torchvision import models\n",
    "\n",
    "from whylogs import get_or_create_session\n",
    "\n",
    "os.environ[\"WHYLABS_API_KEY\"] = \"<API-KEY>\"\n",
    "os.environ[\"WHYLABS_API_ENDPOINT\"] = \"<end point override. not required>\"\n",
    "os.environ[\"WHYLABS_DEFAULT_ORG_ID\"] = \"<your-org-id>\"\n",
    "os.environ[\"WHYLABS_DEFAULT_DATASET_ID\"] = \"<your-default-dataset-id>\"\n",
    "\n",
    "session = get_or_create_session()\n",
    "whylog_logger = session.logger(tags={\"datasetId\": \"<override-dataset-id>\"}, , \n",
    "                        dataset_timestamp=datetime.datetime.now(datetime.timezone.utc), \n",
    "                        with_rotation_time=\"5s\")\n",
    "\n",
    "imagenet_class_index = json.load(open(\"imagenet_class_index.json\"))\n",
    "model = models.densenet121(pretrained=True)\n",
    "model.eval()\n",
    "\n",
    "app = Flask(__name__)\n",
    "```\n",
    "\n",
    "\n",
    "\n",
    "\n"
   ]
  },
  {
   "cell_type": "markdown",
   "id": "ced8888c",
   "metadata": {},
   "source": [
    "## Receiving Request and Monitoring Inputs"
   ]
  },
  {
   "cell_type": "markdown",
   "id": "8ecdd4cd",
   "metadata": {},
   "source": [
    "We will set the endpoint for our app to be `/predict`, this will the main interactions with our application, hence it is important to monitor all the data that is coming in. In this case the request json will include a path to an image.\n",
    "\n",
    "\n",
    "```python\n",
    "@app.route(\"/predict\", methods=[\"POST\"])\n",
    "def predict():\n",
    "\n",
    "    if request.method == \"POST\":\n",
    "        filepath=request.json.get(\"file\",None) \n",
    "        image = fetch_file(filepath)\n",
    "        \n",
    "        whylog_logger.log({\"filepath\":filepath })\n",
    "        whylog_logger.log_image(image)\n",
    "```\n",
    "\n",
    "\n",
    "\n",
    "```python\n",
    "\n",
    "```"
   ]
  },
  {
   "cell_type": "code",
   "execution_count": 54,
   "id": "b80dffa8",
   "metadata": {},
   "outputs": [
    {
     "name": "stdout",
     "output_type": "stream",
     "text": [
      "WARN: Missing config\n",
      " * Serving Flask app 'my_flask_app' (lazy loading)\n",
      " * Environment: production\n",
      "\u001b[31m   WARNING: This is a development server. Do not use it in a production deployment.\u001b[0m\n",
      "\u001b[2m   Use a production WSGI server instead.\u001b[0m\n",
      " * Debug mode: on\n",
      " * Running on http://127.0.0.1:5000/ (Press CTRL+C to quit)\n",
      " * Restarting with watchdog (fsevents)\n",
      "WARN: Missing config\n",
      " * Debugger is active!\n",
      " * Debugger PIN: 372-694-894\n",
      "^C\n"
     ]
    }
   ],
   "source": [
    "!python my_flask_app.py"
   ]
  },
  {
   "cell_type": "code",
   "execution_count": 52,
   "id": "29b07466",
   "metadata": {},
   "outputs": [
    {
     "data": {
      "text/plain": [
       "{'class_id': 'n02280649', 'class_name': 'cabbage_butterfly'}"
      ]
     },
     "execution_count": 52,
     "metadata": {},
     "output_type": "execute_result"
    }
   ],
   "source": [
    "import requests\n",
    "from torchvision import transforms\n",
    "\n",
    "resp = requests.post(\"http://localhost:5000/predict\",\n",
    "                     json={\"file\": '../data/flower2.jpg'})\n",
    "resp.json()"
   ]
  },
  {
   "cell_type": "code",
   "execution_count": 46,
   "id": "30d1f37b",
   "metadata": {},
   "outputs": [
    {
     "data": {
      "text/plain": [
       "['output/my_deployed_model/e5f8620a-8f15-4d41-a0e9-e9845c317377/protobuf/dataset_profile.2021-08-25_13-15-22.bin',\n",
       " 'output/my_deployed_model/e5f8620a-8f15-4d41-a0e9-e9845c317377/protobuf/dataset_profile.2021-08-25_13-15-52.bin',\n",
       " 'output/my_deployed_model/e5f8620a-8f15-4d41-a0e9-e9845c317377/protobuf/dataset_profile.2021-08-25_13-16-22.bin',\n",
       " 'output/my_deployed_model/e5f8620a-8f15-4d41-a0e9-e9845c317377/protobuf/dataset_profile.2021-08-25_13-16-52.bin']"
      ]
     },
     "execution_count": 46,
     "metadata": {},
     "output_type": "execute_result"
    }
   ],
   "source": [
    "import glob \n",
    "files=glob.glob(\"output/*/*/*/*.bin\")\n",
    "sorted(files)\n",
    "files"
   ]
  },
  {
   "cell_type": "code",
   "execution_count": 47,
   "id": "2612d873",
   "metadata": {},
   "outputs": [],
   "source": [
    "from whylogs import DatasetProfile\n",
    "profile=DatasetProfile.read_protobuf(files[-1])"
   ]
  },
  {
   "cell_type": "code",
   "execution_count": 48,
   "id": "6b28f5c3",
   "metadata": {},
   "outputs": [],
   "source": [
    "from whylogs.viz import profile_viewer"
   ]
  },
  {
   "cell_type": "code",
   "execution_count": 49,
   "id": "9aa467fb",
   "metadata": {},
   "outputs": [
    {
     "data": {
      "text/plain": [
       "'/var/folders/pr/f715zv8x17b1v5vwydgv2gq40000gq/T/tmpr3be6_r7.html'"
      ]
     },
     "execution_count": 49,
     "metadata": {},
     "output_type": "execute_result"
    }
   ],
   "source": [
    "profile_viewer(profiles=[profile])"
   ]
  },
  {
   "cell_type": "code",
   "execution_count": null,
   "id": "11a2504c",
   "metadata": {},
   "outputs": [],
   "source": []
  }
 ],
 "metadata": {
  "kernelspec": {
   "display_name": "whylogs-dev",
   "language": "python",
   "name": "whylogs-dev"
  },
  "language_info": {
   "codemirror_mode": {
    "name": "ipython",
    "version": 3
   },
   "file_extension": ".py",
   "mimetype": "text/x-python",
   "name": "python",
   "nbconvert_exporter": "python",
   "pygments_lexer": "ipython3",
   "version": "3.9.6"
  }
 },
 "nbformat": 4,
 "nbformat_minor": 5
}
