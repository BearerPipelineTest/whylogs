{
 "cells": [
  {
   "cell_type": "code",
   "execution_count": 30,
   "id": "d0dc018f",
   "metadata": {},
   "outputs": [
    {
     "name": "stdout",
     "output_type": "stream",
     "text": [
      "Files already downloaded and verified\n"
     ]
    },
    {
     "data": {
      "text/plain": [
       "{'class_id': 'n02280649', 'class_name': 'cabbage_butterfly'}"
      ]
     },
     "execution_count": 30,
     "metadata": {},
     "output_type": "execute_result"
    }
   ],
   "source": [
    "import requests\n",
    "from torchvision import transforms,datasets\n",
    "trainset = datasets.CIFAR10('./data',\n",
    "download=True,train=True)\n",
    "resp = requests.post(\"http://localhost:5000/predict\",\n",
    "                     json={\"file\": '../data/flower2.jpg'})\n",
    "resp.json()"
   ]
  },
  {
   "cell_type": "code",
   "execution_count": 34,
   "id": "7dc1c65b",
   "metadata": {},
   "outputs": [
    {
     "data": {
      "text/plain": [
       "['output/my_deployed_model/3caa8356-e5af-4fbd-b72b-eb64930f9c7e/protobuf/dataset_profile.2021-08-25_11-54-07.bin',\n",
       " 'output/my_deployed_model/3caa8356-e5af-4fbd-b72b-eb64930f9c7e/protobuf/dataset_profile.2021-08-25_11-54-37.bin',\n",
       " 'output/my_deployed_model/74821b9f-5d23-40df-8051-eb0ad371fcef/protobuf/dataset_profile.2021-08-25_11-54-05.bin',\n",
       " 'output/my_deployed_model/74821b9f-5d23-40df-8051-eb0ad371fcef/protobuf/dataset_profile.2021-08-25_11-54-35.bin',\n",
       " 'output/my_deployed_model/837ed2a7-7f42-4083-9047-124192133be1/protobuf/dataset_profile.2021-08-25_11-55-34.bin',\n",
       " 'output/my_deployed_model/837ed2a7-7f42-4083-9047-124192133be1/protobuf/dataset_profile.2021-08-25_11-56-04.bin',\n",
       " 'output/my_deployed_model/837ed2a7-7f42-4083-9047-124192133be1/protobuf/dataset_profile.2021-08-25_11-56-34.bin',\n",
       " 'output/my_deployed_model/a87fa066-9360-4fb3-9675-d201c8e09fe0/protobuf/dataset_profile.2021-08-25_11-55-36.bin',\n",
       " 'output/my_deployed_model/a87fa066-9360-4fb3-9675-d201c8e09fe0/protobuf/dataset_profile.2021-08-25_11-56-06.bin',\n",
       " 'output/my_deployed_model/a87fa066-9360-4fb3-9675-d201c8e09fe0/protobuf/dataset_profile.2021-08-25_11-56-36.bin',\n",
       " 'output/my_deployed_model/fbc46560-a5fe-490f-975e-f8ef71371bf9/protobuf/dataset_profile.2021-08-25_11-52-29.bin']"
      ]
     },
     "execution_count": 34,
     "metadata": {},
     "output_type": "execute_result"
    }
   ],
   "source": [
    "import glob \n",
    "files=glob.glob(\"output/*/*/*/*.bin\")\n",
    "sorted(files)"
   ]
  },
  {
   "cell_type": "code",
   "execution_count": 27,
   "id": "9e373e79",
   "metadata": {},
   "outputs": [],
   "source": [
    "from whylogs import DatasetProfile\n",
    "profile=DatasetProfile.read_protobuf(files[-1])"
   ]
  },
  {
   "cell_type": "code",
   "execution_count": 28,
   "id": "eb501d51",
   "metadata": {},
   "outputs": [],
   "source": [
    "from whylogs.viz import profile_viewer"
   ]
  },
  {
   "cell_type": "code",
   "execution_count": 29,
   "id": "4a8b8ea0",
   "metadata": {},
   "outputs": [
    {
     "data": {
      "text/plain": [
       "'/var/folders/pr/f715zv8x17b1v5vwydgv2gq40000gq/T/tmp1aph9he2.html'"
      ]
     },
     "execution_count": 29,
     "metadata": {},
     "output_type": "execute_result"
    }
   ],
   "source": [
    "profile_viewer(profiles=[profile])"
   ]
  },
  {
   "cell_type": "code",
   "execution_count": null,
   "id": "9eadf799",
   "metadata": {},
   "outputs": [],
   "source": []
  }
 ],
 "metadata": {
  "kernelspec": {
   "display_name": "whylogs-dev",
   "language": "python",
   "name": "whylogs-dev"
  },
  "language_info": {
   "codemirror_mode": {
    "name": "ipython",
    "version": 3
   },
   "file_extension": ".py",
   "mimetype": "text/x-python",
   "name": "python",
   "nbconvert_exporter": "python",
   "pygments_lexer": "ipython3",
   "version": "3.9.6"
  }
 },
 "nbformat": 4,
 "nbformat_minor": 5
}
